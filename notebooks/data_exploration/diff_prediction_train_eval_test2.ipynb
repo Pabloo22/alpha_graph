{
 "cells": [
  {
   "cell_type": "code",
   "execution_count": 6,
   "metadata": {},
   "outputs": [],
   "source": [
    "from ydata_profiling import ProfileReport\n",
    "from gnn_scheduler.jssp import get_stat_dataframe, load_pickle_instances_from_folders\n",
    "from gnn_scheduler.gnns import train_eval_test_split\n",
    "from gnn_scheduler import get_project_path"
   ]
  },
  {
   "cell_type": "code",
   "execution_count": 2,
   "metadata": {},
   "outputs": [
    {
     "name": "stderr",
     "output_type": "stream",
     "text": [
      "Loading instances:   0%|          | 0/21300 [00:00<?, ?it/s]"
     ]
    },
    {
     "name": "stderr",
     "output_type": "stream",
     "text": [
      "Loading instances: 100%|██████████| 21300/21300 [00:05<00:00, 3901.46it/s]\n",
      "Loading instances: 100%|██████████| 49519/49519 [00:16<00:00, 2980.34it/s]\n"
     ]
    },
    {
     "name": "stdout",
     "output_type": "stream",
     "text": [
      "50989 5666 14164\n"
     ]
    }
   ],
   "source": [
    "folder_names = [\"augmented_benchmark_10machines\", \"diff_prediction_instances\"]\n",
    "instances = load_pickle_instances_from_folders(folder_names)\n",
    "train_instances, eval_instances, test_instances = train_eval_test_split(instances, test_size=0.2, eval_size=0.1)\n",
    "# Print length of each set\n",
    "print(len(train_instances), len(eval_instances), len(test_instances))"
   ]
  },
  {
   "cell_type": "code",
   "execution_count": 3,
   "metadata": {},
   "outputs": [],
   "source": [
    "train_stats = get_stat_dataframe(train_instances)\n",
    "eval_stats = get_stat_dataframe(eval_instances)\n",
    "test_stats = get_stat_dataframe(test_instances)\n",
    "\n",
    "report_names = [\n",
    "    \"diff_pred_train_report.html\",\n",
    "    \"diff_pred_eval_report.html\",\n",
    "    \"diff_pred_test_report.html\",\n",
    "]\n",
    "report_titles = [\n",
    "    \"Diff Pred Train Report\",\n",
    "    \"Diff Pred Eval Report\",\n",
    "    \"Diff Pred Test Report\",\n",
    "]"
   ]
  },
  {
   "cell_type": "code",
   "execution_count": 4,
   "metadata": {},
   "outputs": [],
   "source": [
    "train_profile = ProfileReport(train_stats, title=report_titles[0])\n",
    "eval_profile = ProfileReport(eval_stats, title=report_titles[1])\n",
    "test_profile = ProfileReport(test_stats, title=report_titles[2])"
   ]
  },
  {
   "cell_type": "code",
   "execution_count": 7,
   "metadata": {},
   "outputs": [],
   "source": [
    "path = get_project_path() / \"reports\" / \"diff_pred\""
   ]
  },
  {
   "cell_type": "code",
   "execution_count": 8,
   "metadata": {},
   "outputs": [
    {
     "name": "stderr",
     "output_type": "stream",
     "text": [
      "Summarize dataset:   0%|          | 0/5 [00:00<?, ?it/s]/home/pablo/.cache/pypoetry/virtualenvs/gnn-scheduler-rnVoZpeL-py3.11/lib/python3.11/site-packages/ydata_profiling/model/typeset.py:125: FutureWarning: is_categorical_dtype is deprecated and will be removed in a future version. Use isinstance(dtype, CategoricalDtype) instead\n",
      "  not pdt.is_categorical_dtype(series)\n",
      "/home/pablo/.cache/pypoetry/virtualenvs/gnn-scheduler-rnVoZpeL-py3.11/lib/python3.11/site-packages/ydata_profiling/model/typeset.py:125: FutureWarning: is_categorical_dtype is deprecated and will be removed in a future version. Use isinstance(dtype, CategoricalDtype) instead\n",
      "  not pdt.is_categorical_dtype(series)\n",
      "/home/pablo/.cache/pypoetry/virtualenvs/gnn-scheduler-rnVoZpeL-py3.11/lib/python3.11/site-packages/ydata_profiling/model/typeset.py:208: FutureWarning: is_categorical_dtype is deprecated and will be removed in a future version. Use isinstance(dtype, CategoricalDtype) instead\n",
      "  is_valid_dtype = pdt.is_categorical_dtype(series) and not pdt.is_bool_dtype(\n",
      "/home/pablo/.cache/pypoetry/virtualenvs/gnn-scheduler-rnVoZpeL-py3.11/lib/python3.11/site-packages/ydata_profiling/model/typeset.py:208: FutureWarning: is_categorical_dtype is deprecated and will be removed in a future version. Use isinstance(dtype, CategoricalDtype) instead\n",
      "  is_valid_dtype = pdt.is_categorical_dtype(series) and not pdt.is_bool_dtype(\n",
      "/home/pablo/.cache/pypoetry/virtualenvs/gnn-scheduler-rnVoZpeL-py3.11/lib/python3.11/site-packages/ydata_profiling/model/typeset.py:125: FutureWarning: is_categorical_dtype is deprecated and will be removed in a future version. Use isinstance(dtype, CategoricalDtype) instead\n",
      "  not pdt.is_categorical_dtype(series)\n",
      "Summarize dataset:   8%|▊         | 1/13 [00:00<00:02,  5.93it/s, Describe variable:no_solution]/home/pablo/.cache/pypoetry/virtualenvs/gnn-scheduler-rnVoZpeL-py3.11/lib/python3.11/site-packages/ydata_profiling/model/typeset.py:125: FutureWarning: is_categorical_dtype is deprecated and will be removed in a future version. Use isinstance(dtype, CategoricalDtype) instead\n",
      "  not pdt.is_categorical_dtype(series)\n",
      "/home/pablo/.cache/pypoetry/virtualenvs/gnn-scheduler-rnVoZpeL-py3.11/lib/python3.11/site-packages/ydata_profiling/model/typeset.py:208: FutureWarning: is_categorical_dtype is deprecated and will be removed in a future version. Use isinstance(dtype, CategoricalDtype) instead\n",
      "  is_valid_dtype = pdt.is_categorical_dtype(series) and not pdt.is_bool_dtype(\n",
      "Summarize dataset:   8%|▊         | 1/13 [00:00<00:02,  5.93it/s, Describe variable:is_optimal] /home/pablo/.cache/pypoetry/virtualenvs/gnn-scheduler-rnVoZpeL-py3.11/lib/python3.11/site-packages/ydata_profiling/model/typeset.py:208: FutureWarning: is_categorical_dtype is deprecated and will be removed in a future version. Use isinstance(dtype, CategoricalDtype) instead\n",
      "  is_valid_dtype = pdt.is_categorical_dtype(series) and not pdt.is_bool_dtype(\n",
      "Summarize dataset:  15%|█▌        | 2/13 [00:00<00:01,  6.53it/s, Describe variable:is_optimal]/home/pablo/.cache/pypoetry/virtualenvs/gnn-scheduler-rnVoZpeL-py3.11/lib/python3.11/site-packages/ydata_profiling/model/typeset.py:125: FutureWarning: is_categorical_dtype is deprecated and will be removed in a future version. Use isinstance(dtype, CategoricalDtype) instead\n",
      "  not pdt.is_categorical_dtype(series)\n",
      "/home/pablo/.cache/pypoetry/virtualenvs/gnn-scheduler-rnVoZpeL-py3.11/lib/python3.11/site-packages/ydata_profiling/model/typeset_relations.py:34: FutureWarning: is_categorical_dtype is deprecated and will be removed in a future version. Use isinstance(dtype, CategoricalDtype) instead\n",
      "  if pdt.is_categorical_dtype(series):\n",
      "/home/pablo/.cache/pypoetry/virtualenvs/gnn-scheduler-rnVoZpeL-py3.11/lib/python3.11/site-packages/ydata_profiling/model/typeset.py:208: FutureWarning: is_categorical_dtype is deprecated and will be removed in a future version. Use isinstance(dtype, CategoricalDtype) instead\n",
      "  is_valid_dtype = pdt.is_categorical_dtype(series) and not pdt.is_bool_dtype(\n",
      "/home/pablo/.cache/pypoetry/virtualenvs/gnn-scheduler-rnVoZpeL-py3.11/lib/python3.11/site-packages/ydata_profiling/model/typeset_relations.py:34: FutureWarning: is_categorical_dtype is deprecated and will be removed in a future version. Use isinstance(dtype, CategoricalDtype) instead\n",
      "  if pdt.is_categorical_dtype(series):\n",
      "Summarize dataset: 100%|██████████| 33/33 [00:03<00:00,  9.49it/s, Completed]                                                                   \n",
      "Generate report structure: 100%|██████████| 1/1 [00:02<00:00,  2.23s/it]\n",
      "Render HTML: 100%|██████████| 1/1 [00:00<00:00,  1.88it/s]\n",
      "Export report to file: 100%|██████████| 1/1 [00:00<00:00, 98.62it/s]\n"
     ]
    }
   ],
   "source": [
    "train_profile.to_file(path / report_names[0])"
   ]
  },
  {
   "cell_type": "code",
   "execution_count": 9,
   "metadata": {},
   "outputs": [
    {
     "name": "stderr",
     "output_type": "stream",
     "text": [
      "Summarize dataset:   0%|          | 0/5 [00:00<?, ?it/s]/home/pablo/.cache/pypoetry/virtualenvs/gnn-scheduler-rnVoZpeL-py3.11/lib/python3.11/site-packages/ydata_profiling/model/typeset.py:125: FutureWarning: is_categorical_dtype is deprecated and will be removed in a future version. Use isinstance(dtype, CategoricalDtype) instead\n",
      "  not pdt.is_categorical_dtype(series)\n",
      "Summarize dataset:   8%|▊         | 1/13 [00:00<00:00, 18.59it/s, Describe variable:n_machines]/home/pablo/.cache/pypoetry/virtualenvs/gnn-scheduler-rnVoZpeL-py3.11/lib/python3.11/site-packages/ydata_profiling/model/typeset_relations.py:34: FutureWarning: is_categorical_dtype is deprecated and will be removed in a future version. Use isinstance(dtype, CategoricalDtype) instead\n",
      "  if pdt.is_categorical_dtype(series):\n",
      "Summarize dataset:  15%|█▌        | 2/13 [00:00<00:00, 31.36it/s, Describe variable:no_solution]/home/pablo/.cache/pypoetry/virtualenvs/gnn-scheduler-rnVoZpeL-py3.11/lib/python3.11/site-packages/ydata_profiling/model/typeset.py:125: FutureWarning: is_categorical_dtype is deprecated and will be removed in a future version. Use isinstance(dtype, CategoricalDtype) instead\n",
      "  not pdt.is_categorical_dtype(series)\n",
      "Summarize dataset:  23%|██▎       | 3/13 [00:00<00:00, 34.71it/s, Describe variable:n_jobs]     /home/pablo/.cache/pypoetry/virtualenvs/gnn-scheduler-rnVoZpeL-py3.11/lib/python3.11/site-packages/ydata_profiling/model/typeset_relations.py:34: FutureWarning: is_categorical_dtype is deprecated and will be removed in a future version. Use isinstance(dtype, CategoricalDtype) instead\n",
      "  if pdt.is_categorical_dtype(series):\n",
      "Summarize dataset: 100%|██████████| 33/33 [00:01<00:00, 19.65it/s, Completed]                                                                   \n",
      "Generate report structure: 100%|██████████| 1/1 [00:02<00:00,  2.25s/it]\n",
      "Render HTML: 100%|██████████| 1/1 [00:00<00:00,  2.69it/s]\n",
      "Export report to file: 100%|██████████| 1/1 [00:00<00:00, 615.36it/s]\n"
     ]
    }
   ],
   "source": [
    "eval_profile.to_file(path / report_names[1])"
   ]
  },
  {
   "cell_type": "code",
   "execution_count": 10,
   "metadata": {},
   "outputs": [
    {
     "name": "stderr",
     "output_type": "stream",
     "text": [
      "Summarize dataset:   0%|          | 0/5 [00:00<?, ?it/s]/home/pablo/.cache/pypoetry/virtualenvs/gnn-scheduler-rnVoZpeL-py3.11/lib/python3.11/site-packages/ydata_profiling/model/typeset.py:125: FutureWarning: is_categorical_dtype is deprecated and will be removed in a future version. Use isinstance(dtype, CategoricalDtype) instead\n",
      "  not pdt.is_categorical_dtype(series)\n",
      "/home/pablo/.cache/pypoetry/virtualenvs/gnn-scheduler-rnVoZpeL-py3.11/lib/python3.11/site-packages/ydata_profiling/model/typeset.py:125: FutureWarning: is_categorical_dtype is deprecated and will be removed in a future version. Use isinstance(dtype, CategoricalDtype) instead\n",
      "  not pdt.is_categorical_dtype(series)\n",
      "/home/pablo/.cache/pypoetry/virtualenvs/gnn-scheduler-rnVoZpeL-py3.11/lib/python3.11/site-packages/ydata_profiling/model/typeset.py:125: FutureWarning: is_categorical_dtype is deprecated and will be removed in a future version. Use isinstance(dtype, CategoricalDtype) instead\n",
      "  not pdt.is_categorical_dtype(series)\n",
      "Summarize dataset:  15%|█▌        | 2/13 [00:00<00:00, 25.78it/s, Describe variable:n_machines]/home/pablo/.cache/pypoetry/virtualenvs/gnn-scheduler-rnVoZpeL-py3.11/lib/python3.11/site-packages/ydata_profiling/model/typeset_relations.py:34: FutureWarning: is_categorical_dtype is deprecated and will be removed in a future version. Use isinstance(dtype, CategoricalDtype) instead\n",
      "  if pdt.is_categorical_dtype(series):\n",
      "/home/pablo/.cache/pypoetry/virtualenvs/gnn-scheduler-rnVoZpeL-py3.11/lib/python3.11/site-packages/ydata_profiling/model/typeset.py:125: FutureWarning: is_categorical_dtype is deprecated and will be removed in a future version. Use isinstance(dtype, CategoricalDtype) instead\n",
      "  not pdt.is_categorical_dtype(series)\n",
      "/home/pablo/.cache/pypoetry/virtualenvs/gnn-scheduler-rnVoZpeL-py3.11/lib/python3.11/site-packages/ydata_profiling/model/typeset_relations.py:34: FutureWarning: is_categorical_dtype is deprecated and will be removed in a future version. Use isinstance(dtype, CategoricalDtype) instead\n",
      "  if pdt.is_categorical_dtype(series):\n",
      "Summarize dataset: 100%|██████████| 33/33 [00:02<00:00, 14.67it/s, Completed]                                                                   \n",
      "Generate report structure: 100%|██████████| 1/1 [00:01<00:00,  1.57s/it]\n",
      "Render HTML: 100%|██████████| 1/1 [00:00<00:00,  2.94it/s]\n",
      "Export report to file: 100%|██████████| 1/1 [00:00<00:00, 658.96it/s]\n"
     ]
    }
   ],
   "source": [
    "test_profile.to_file(path / report_names[2])"
   ]
  },
  {
   "cell_type": "code",
   "execution_count": null,
   "metadata": {},
   "outputs": [],
   "source": []
  }
 ],
 "metadata": {
  "kernelspec": {
   "display_name": "gnn-scheduler-rnVoZpeL-py3.11",
   "language": "python",
   "name": "python3"
  },
  "language_info": {
   "codemirror_mode": {
    "name": "ipython",
    "version": 3
   },
   "file_extension": ".py",
   "mimetype": "text/x-python",
   "name": "python",
   "nbconvert_exporter": "python",
   "pygments_lexer": "ipython3",
   "version": "3.11.6"
  }
 },
 "nbformat": 4,
 "nbformat_minor": 2
}
