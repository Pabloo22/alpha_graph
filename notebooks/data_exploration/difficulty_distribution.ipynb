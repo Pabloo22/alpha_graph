{
 "cells": [
  {
   "cell_type": "code",
   "execution_count": 13,
   "metadata": {},
   "outputs": [],
   "source": [
    "import matplotlib.pyplot as plt\n",
    "\n",
    "plt.style.use(\"ggplot\")"
   ]
  },
  {
   "cell_type": "code",
   "execution_count": 22,
   "metadata": {},
   "outputs": [],
   "source": [
    "from gnn_scheduler.jssp import (\n",
    "    load_all_from_benchmark,\n",
    "    load_pickle_instances_from_folders,\n",
    "    JobShopInstance\n",
    ")\n",
    "from gnn_scheduler.gan import get_stat_dataframe, set_instance_attributes\n",
    "from gnn_scheduler import get_data_path"
   ]
  },
  {
   "cell_type": "code",
   "execution_count": 81,
   "metadata": {},
   "outputs": [],
   "source": [
    "DATA_PATH = get_data_path()\n",
    "RANDOM_DATASET_FOLDER = (\n",
    "    DATA_PATH / \"difficulty_prediction\" / \"diff_prediction_instances\"\n",
    ")\n",
    "AUGMENTED_DATASET_FOLDER = (\n",
    "    DATA_PATH / \"difficulty_prediction\" / \"augmented_benchmark_10machines\"\n",
    ")"
   ]
  },
  {
   "cell_type": "code",
   "execution_count": 5,
   "metadata": {},
   "outputs": [],
   "source": [
    "def plot_difficulty_distribution(instances: list[JobShopInstance]):\n",
    "    pass"
   ]
  },
  {
   "cell_type": "markdown",
   "metadata": {},
   "source": [
    "### Benchmark Dataset"
   ]
  },
  {
   "cell_type": "code",
   "execution_count": 23,
   "metadata": {},
   "outputs": [
    {
     "data": {
      "text/html": [
       "<div>\n",
       "<style scoped>\n",
       "    .dataframe tbody tr th:only-of-type {\n",
       "        vertical-align: middle;\n",
       "    }\n",
       "\n",
       "    .dataframe tbody tr th {\n",
       "        vertical-align: top;\n",
       "    }\n",
       "\n",
       "    .dataframe thead th {\n",
       "        text-align: right;\n",
       "    }\n",
       "</style>\n",
       "<table border=\"1\" class=\"dataframe\">\n",
       "  <thead>\n",
       "    <tr style=\"text-align: right;\">\n",
       "      <th></th>\n",
       "      <th>name</th>\n",
       "      <th>n_jobs</th>\n",
       "      <th>n_machines</th>\n",
       "      <th>max_machine_load_and_job_duration</th>\n",
       "      <th>upper_bound</th>\n",
       "      <th>is_optimal</th>\n",
       "      <th>no_solution</th>\n",
       "      <th>difficulty_score</th>\n",
       "    </tr>\n",
       "  </thead>\n",
       "  <tbody>\n",
       "    <tr>\n",
       "      <th>0</th>\n",
       "      <td>abz5</td>\n",
       "      <td>10</td>\n",
       "      <td>10</td>\n",
       "      <td>868</td>\n",
       "      <td>1272</td>\n",
       "      <td>True</td>\n",
       "      <td>False</td>\n",
       "      <td>0.465438</td>\n",
       "    </tr>\n",
       "    <tr>\n",
       "      <th>1</th>\n",
       "      <td>abz6</td>\n",
       "      <td>10</td>\n",
       "      <td>10</td>\n",
       "      <td>742</td>\n",
       "      <td>943</td>\n",
       "      <td>True</td>\n",
       "      <td>False</td>\n",
       "      <td>0.270889</td>\n",
       "    </tr>\n",
       "    <tr>\n",
       "      <th>2</th>\n",
       "      <td>abz7</td>\n",
       "      <td>20</td>\n",
       "      <td>15</td>\n",
       "      <td>556</td>\n",
       "      <td>765</td>\n",
       "      <td>True</td>\n",
       "      <td>False</td>\n",
       "      <td>0.375899</td>\n",
       "    </tr>\n",
       "    <tr>\n",
       "      <th>3</th>\n",
       "      <td>abz8</td>\n",
       "      <td>20</td>\n",
       "      <td>15</td>\n",
       "      <td>566</td>\n",
       "      <td>797</td>\n",
       "      <td>False</td>\n",
       "      <td>False</td>\n",
       "      <td>0.408127</td>\n",
       "    </tr>\n",
       "    <tr>\n",
       "      <th>4</th>\n",
       "      <td>abz9</td>\n",
       "      <td>20</td>\n",
       "      <td>15</td>\n",
       "      <td>563</td>\n",
       "      <td>855</td>\n",
       "      <td>True</td>\n",
       "      <td>False</td>\n",
       "      <td>0.518650</td>\n",
       "    </tr>\n",
       "    <tr>\n",
       "      <th>...</th>\n",
       "      <td>...</td>\n",
       "      <td>...</td>\n",
       "      <td>...</td>\n",
       "      <td>...</td>\n",
       "      <td>...</td>\n",
       "      <td>...</td>\n",
       "      <td>...</td>\n",
       "      <td>...</td>\n",
       "    </tr>\n",
       "    <tr>\n",
       "      <th>157</th>\n",
       "      <td>ta76</td>\n",
       "      <td>100</td>\n",
       "      <td>20</td>\n",
       "      <td>5342</td>\n",
       "      <td>10684</td>\n",
       "      <td>True</td>\n",
       "      <td>True</td>\n",
       "      <td>1.000000</td>\n",
       "    </tr>\n",
       "    <tr>\n",
       "      <th>158</th>\n",
       "      <td>ta77</td>\n",
       "      <td>100</td>\n",
       "      <td>20</td>\n",
       "      <td>5436</td>\n",
       "      <td>10872</td>\n",
       "      <td>True</td>\n",
       "      <td>True</td>\n",
       "      <td>1.000000</td>\n",
       "    </tr>\n",
       "    <tr>\n",
       "      <th>159</th>\n",
       "      <td>ta78</td>\n",
       "      <td>100</td>\n",
       "      <td>20</td>\n",
       "      <td>5394</td>\n",
       "      <td>10788</td>\n",
       "      <td>True</td>\n",
       "      <td>True</td>\n",
       "      <td>1.000000</td>\n",
       "    </tr>\n",
       "    <tr>\n",
       "      <th>160</th>\n",
       "      <td>ta79</td>\n",
       "      <td>100</td>\n",
       "      <td>20</td>\n",
       "      <td>5358</td>\n",
       "      <td>10716</td>\n",
       "      <td>True</td>\n",
       "      <td>True</td>\n",
       "      <td>1.000000</td>\n",
       "    </tr>\n",
       "    <tr>\n",
       "      <th>161</th>\n",
       "      <td>ta80</td>\n",
       "      <td>100</td>\n",
       "      <td>20</td>\n",
       "      <td>5183</td>\n",
       "      <td>10366</td>\n",
       "      <td>True</td>\n",
       "      <td>True</td>\n",
       "      <td>1.000000</td>\n",
       "    </tr>\n",
       "  </tbody>\n",
       "</table>\n",
       "<p>162 rows × 8 columns</p>\n",
       "</div>"
      ],
      "text/plain": [
       "     name  n_jobs  n_machines  max_machine_load_and_job_duration  upper_bound  \\\n",
       "0    abz5      10          10                                868         1272   \n",
       "1    abz6      10          10                                742          943   \n",
       "2    abz7      20          15                                556          765   \n",
       "3    abz8      20          15                                566          797   \n",
       "4    abz9      20          15                                563          855   \n",
       "..    ...     ...         ...                                ...          ...   \n",
       "157  ta76     100          20                               5342        10684   \n",
       "158  ta77     100          20                               5436        10872   \n",
       "159  ta78     100          20                               5394        10788   \n",
       "160  ta79     100          20                               5358        10716   \n",
       "161  ta80     100          20                               5183        10366   \n",
       "\n",
       "     is_optimal  no_solution  difficulty_score  \n",
       "0          True        False          0.465438  \n",
       "1          True        False          0.270889  \n",
       "2          True        False          0.375899  \n",
       "3         False        False          0.408127  \n",
       "4          True        False          0.518650  \n",
       "..          ...          ...               ...  \n",
       "157        True         True          1.000000  \n",
       "158        True         True          1.000000  \n",
       "159        True         True          1.000000  \n",
       "160        True         True          1.000000  \n",
       "161        True         True          1.000000  \n",
       "\n",
       "[162 rows x 8 columns]"
      ]
     },
     "execution_count": 23,
     "metadata": {},
     "output_type": "execute_result"
    }
   ],
   "source": [
    "benchmark_dataset = load_all_from_benchmark()\n",
    "benchmark_dataset = [\n",
    "    set_instance_attributes(instance) for instance in benchmark_dataset\n",
    "]\n",
    "benchmark_stats = get_stat_dataframe(benchmark_dataset)\n",
    "benchmark_stats"
   ]
  },
  {
   "cell_type": "code",
   "execution_count": 68,
   "metadata": {},
   "outputs": [
    {
     "data": {
      "image/png": "[encoded data removed]",
      "text/plain": [
       "<Figure size 640x480 with 1 Axes>"
      ]
     },
     "metadata": {},
     "output_type": "display_data"
    }
   ],
   "source": [
    "benchmark_stats.difficulty_score.plot(\n",
    "    kind=\"hist\",\n",
    "    bins=20,\n",
    "    title=\"Difficulty: All Benchmark Instances\",\n",
    "    xlabel=\"Difficulty\",\n",
    "    ylabel=\"Number of instances\",\n",
    ");"
   ]
  },
  {
   "cell_type": "code",
   "execution_count": 71,
   "metadata": {},
   "outputs": [
    {
     "data": {
      "image/png": "[encoded data removed]",
      "text/plain": [
       "<Figure size 640x480 with 1 Axes>"
      ]
     },
     "metadata": {},
     "output_type": "display_data"
    }
   ],
   "source": [
    "mask = (\n",
    "    (benchmark_stats.n_jobs >= 10)\n",
    "    & (benchmark_stats.n_jobs <= 20)\n",
    "    & (benchmark_stats.n_machines == 10)\n",
    ")\n",
    "benchmark_stats[mask].difficulty_score.plot(\n",
    "    kind=\"hist\",\n",
    "    bins=12,\n",
    "    title=\"Difficulty: Benchmark Instances (10 machines, 10 to 20 jobs)\",\n",
    "    xlim=(0, 1),\n",
    "    \n",
    ")\n",
    "plt.xlabel(\"Difficulty\")\n",
    "plt.show()"
   ]
  },
  {
   "cell_type": "code",
   "execution_count": 96,
   "metadata": {},
   "outputs": [
    {
     "data": {
      "text/plain": [
       "count    33.000000\n",
       "mean      0.372014\n",
       "std       0.194102\n",
       "min       0.064922\n",
       "25%       0.191566\n",
       "50%       0.347243\n",
       "75%       0.513582\n",
       "max       0.775540\n",
       "Name: difficulty_score, dtype: float64"
      ]
     },
     "execution_count": 96,
     "metadata": {},
     "output_type": "execute_result"
    }
   ],
   "source": [
    "benchmark_stats[mask].difficulty_score.describe()"
   ]
  },
  {
   "cell_type": "code",
   "execution_count": 97,
   "metadata": {},
   "outputs": [
    {
     "data": {
      "text/plain": [
       "count    162.000000\n",
       "mean       0.484848\n",
       "std        0.330540\n",
       "min        0.000000\n",
       "25%        0.228772\n",
       "50%        0.448396\n",
       "75%        0.667983\n",
       "max        1.000000\n",
       "Name: difficulty_score, dtype: float64"
      ]
     },
     "execution_count": 97,
     "metadata": {},
     "output_type": "execute_result"
    }
   ],
   "source": [
    "benchmark_stats.difficulty_score.describe()"
   ]
  },
  {
   "cell_type": "markdown",
   "metadata": {},
   "source": [
    "### Purely Random Dataset"
   ]
  },
  {
   "cell_type": "code",
   "execution_count": 74,
   "metadata": {},
   "outputs": [
    {
     "name": "stderr",
     "output_type": "stream",
     "text": [
      "Loading instances: 100%|██████████| 49519/49519 [00:18<00:00, 2614.55it/s]\n"
     ]
    },
    {
     "data": {
      "text/html": [
       "<div>\n",
       "<style scoped>\n",
       "    .dataframe tbody tr th:only-of-type {\n",
       "        vertical-align: middle;\n",
       "    }\n",
       "\n",
       "    .dataframe tbody tr th {\n",
       "        vertical-align: top;\n",
       "    }\n",
       "\n",
       "    .dataframe thead th {\n",
       "        text-align: right;\n",
       "    }\n",
       "</style>\n",
       "<table border=\"1\" class=\"dataframe\">\n",
       "  <thead>\n",
       "    <tr style=\"text-align: right;\">\n",
       "      <th></th>\n",
       "      <th>name</th>\n",
       "      <th>n_jobs</th>\n",
       "      <th>n_machines</th>\n",
       "      <th>max_machine_load_and_job_duration</th>\n",
       "      <th>upper_bound</th>\n",
       "      <th>is_optimal</th>\n",
       "      <th>no_solution</th>\n",
       "      <th>difficulty_score</th>\n",
       "    </tr>\n",
       "  </thead>\n",
       "  <tbody>\n",
       "    <tr>\n",
       "      <th>0</th>\n",
       "      <td>naive_generated_instance_35302</td>\n",
       "      <td>20</td>\n",
       "      <td>10</td>\n",
       "      <td>1092</td>\n",
       "      <td>1388</td>\n",
       "      <td>False</td>\n",
       "      <td>False</td>\n",
       "      <td>0.271062</td>\n",
       "    </tr>\n",
       "    <tr>\n",
       "      <th>1</th>\n",
       "      <td>naive_generated_instance_49119</td>\n",
       "      <td>10</td>\n",
       "      <td>10</td>\n",
       "      <td>668</td>\n",
       "      <td>791</td>\n",
       "      <td>False</td>\n",
       "      <td>False</td>\n",
       "      <td>0.184132</td>\n",
       "    </tr>\n",
       "    <tr>\n",
       "      <th>2</th>\n",
       "      <td>naive_generated_instance_39795</td>\n",
       "      <td>16</td>\n",
       "      <td>10</td>\n",
       "      <td>1005</td>\n",
       "      <td>1232</td>\n",
       "      <td>False</td>\n",
       "      <td>False</td>\n",
       "      <td>0.225871</td>\n",
       "    </tr>\n",
       "    <tr>\n",
       "      <th>3</th>\n",
       "      <td>naive_generated_instance_26963</td>\n",
       "      <td>13</td>\n",
       "      <td>10</td>\n",
       "      <td>825</td>\n",
       "      <td>965</td>\n",
       "      <td>False</td>\n",
       "      <td>False</td>\n",
       "      <td>0.169697</td>\n",
       "    </tr>\n",
       "    <tr>\n",
       "      <th>4</th>\n",
       "      <td>naive_generated_instance_33786</td>\n",
       "      <td>19</td>\n",
       "      <td>10</td>\n",
       "      <td>1057</td>\n",
       "      <td>1296</td>\n",
       "      <td>False</td>\n",
       "      <td>False</td>\n",
       "      <td>0.226112</td>\n",
       "    </tr>\n",
       "    <tr>\n",
       "      <th>...</th>\n",
       "      <td>...</td>\n",
       "      <td>...</td>\n",
       "      <td>...</td>\n",
       "      <td>...</td>\n",
       "      <td>...</td>\n",
       "      <td>...</td>\n",
       "      <td>...</td>\n",
       "      <td>...</td>\n",
       "    </tr>\n",
       "    <tr>\n",
       "      <th>49514</th>\n",
       "      <td>naive_generated_instance_46035</td>\n",
       "      <td>20</td>\n",
       "      <td>10</td>\n",
       "      <td>1089</td>\n",
       "      <td>1278</td>\n",
       "      <td>False</td>\n",
       "      <td>False</td>\n",
       "      <td>0.173554</td>\n",
       "    </tr>\n",
       "    <tr>\n",
       "      <th>49515</th>\n",
       "      <td>naive_generated_instance_48244</td>\n",
       "      <td>18</td>\n",
       "      <td>10</td>\n",
       "      <td>1091</td>\n",
       "      <td>1254</td>\n",
       "      <td>False</td>\n",
       "      <td>False</td>\n",
       "      <td>0.149404</td>\n",
       "    </tr>\n",
       "    <tr>\n",
       "      <th>49516</th>\n",
       "      <td>naive_generated_instance_2770</td>\n",
       "      <td>17</td>\n",
       "      <td>10</td>\n",
       "      <td>1061</td>\n",
       "      <td>1276</td>\n",
       "      <td>False</td>\n",
       "      <td>False</td>\n",
       "      <td>0.202639</td>\n",
       "    </tr>\n",
       "    <tr>\n",
       "      <th>49517</th>\n",
       "      <td>naive_generated_instance_3754</td>\n",
       "      <td>10</td>\n",
       "      <td>10</td>\n",
       "      <td>612</td>\n",
       "      <td>811</td>\n",
       "      <td>False</td>\n",
       "      <td>False</td>\n",
       "      <td>0.325163</td>\n",
       "    </tr>\n",
       "    <tr>\n",
       "      <th>49518</th>\n",
       "      <td>naive_generated_instance_33612</td>\n",
       "      <td>12</td>\n",
       "      <td>10</td>\n",
       "      <td>738</td>\n",
       "      <td>996</td>\n",
       "      <td>False</td>\n",
       "      <td>False</td>\n",
       "      <td>0.349593</td>\n",
       "    </tr>\n",
       "  </tbody>\n",
       "</table>\n",
       "<p>49519 rows × 8 columns</p>\n",
       "</div>"
      ],
      "text/plain": [
       "                                 name  n_jobs  n_machines  \\\n",
       "0      naive_generated_instance_35302      20          10   \n",
       "1      naive_generated_instance_49119      10          10   \n",
       "2      naive_generated_instance_39795      16          10   \n",
       "3      naive_generated_instance_26963      13          10   \n",
       "4      naive_generated_instance_33786      19          10   \n",
       "...                               ...     ...         ...   \n",
       "49514  naive_generated_instance_46035      20          10   \n",
       "49515  naive_generated_instance_48244      18          10   \n",
       "49516   naive_generated_instance_2770      17          10   \n",
       "49517   naive_generated_instance_3754      10          10   \n",
       "49518  naive_generated_instance_33612      12          10   \n",
       "\n",
       "       max_machine_load_and_job_duration  upper_bound  is_optimal  \\\n",
       "0                                   1092         1388       False   \n",
       "1                                    668          791       False   \n",
       "2                                   1005         1232       False   \n",
       "3                                    825          965       False   \n",
       "4                                   1057         1296       False   \n",
       "...                                  ...          ...         ...   \n",
       "49514                               1089         1278       False   \n",
       "49515                               1091         1254       False   \n",
       "49516                               1061         1276       False   \n",
       "49517                                612          811       False   \n",
       "49518                                738          996       False   \n",
       "\n",
       "       no_solution  difficulty_score  \n",
       "0            False          0.271062  \n",
       "1            False          0.184132  \n",
       "2            False          0.225871  \n",
       "3            False          0.169697  \n",
       "4            False          0.226112  \n",
       "...            ...               ...  \n",
       "49514        False          0.173554  \n",
       "49515        False          0.149404  \n",
       "49516        False          0.202639  \n",
       "49517        False          0.325163  \n",
       "49518        False          0.349593  \n",
       "\n",
       "[49519 rows x 8 columns]"
      ]
     },
     "execution_count": 74,
     "metadata": {},
     "output_type": "execute_result"
    }
   ],
   "source": [
    "pr_instances = load_pickle_instances_from_folders(\n",
    "    [RANDOM_DATASET_FOLDER]\n",
    ")\n",
    "pr_stats = get_stat_dataframe(pr_instances)\n",
    "pr_stats"
   ]
  },
  {
   "cell_type": "code",
   "execution_count": 89,
   "metadata": {},
   "outputs": [
    {
     "data": {
      "image/png": "[encoded data removed]",
      "text/plain": [
       "<Figure size 640x480 with 1 Axes>"
      ]
     },
     "metadata": {},
     "output_type": "display_data"
    }
   ],
   "source": [
    "pr_stats.difficulty_score.plot(\n",
    "    kind=\"hist\",\n",
    "    bins=100,\n",
    "    title=\"Difficulty: Purely Random Dataset\",\n",
    "    xlabel=\"Difficulty\",\n",
    "    ylabel=\"Number of instances\",\n",
    ")\n",
    "plt.show()"
   ]
  },
  {
   "cell_type": "code",
   "execution_count": 79,
   "metadata": {},
   "outputs": [
    {
     "data": {
      "text/plain": [
       "count    49519.000000\n",
       "mean         0.203298\n",
       "std          0.096180\n",
       "min          0.000000\n",
       "25%          0.136126\n",
       "50%          0.197546\n",
       "75%          0.263523\n",
       "max          1.000000\n",
       "Name: difficulty_score, dtype: float64"
      ]
     },
     "execution_count": 79,
     "metadata": {},
     "output_type": "execute_result"
    }
   ],
   "source": [
    "pr_stats.difficulty_score.describe()"
   ]
  },
  {
   "cell_type": "markdown",
   "metadata": {},
   "source": [
    "### Augmented Dataset"
   ]
  },
  {
   "cell_type": "code",
   "execution_count": 82,
   "metadata": {},
   "outputs": [
    {
     "name": "stderr",
     "output_type": "stream",
     "text": [
      "Loading instances:   0%|          | 0/21300 [00:00<?, ?it/s]"
     ]
    },
    {
     "name": "stderr",
     "output_type": "stream",
     "text": [
      "Loading instances: 100%|██████████| 21300/21300 [00:03<00:00, 5606.93it/s]\n"
     ]
    }
   ],
   "source": [
    "aug_instances = load_pickle_instances_from_folders([AUGMENTED_DATASET_FOLDER])\n",
    "aug_stats = get_stat_dataframe(aug_instances)"
   ]
  },
  {
   "cell_type": "code",
   "execution_count": 94,
   "metadata": {},
   "outputs": [
    {
     "data": {
      "image/png": "[encoded data removed]",
      "text/plain": [
       "<Figure size 640x480 with 1 Axes>"
      ]
     },
     "metadata": {},
     "output_type": "display_data"
    }
   ],
   "source": [
    "aug_stats.difficulty_score.plot(\n",
    "    kind=\"hist\",\n",
    "    bins=100,\n",
    "    title=\"Difficulty: Augmented Dataset\",\n",
    "    xlabel=\"Difficulty\",\n",
    "    ylabel=\"Number of instances\",\n",
    ")\n",
    "plt.xlim(0, 1)\n",
    "plt.show()"
   ]
  },
  {
   "cell_type": "code",
   "execution_count": 95,
   "metadata": {},
   "outputs": [
    {
     "data": {
      "text/plain": [
       "count    21300.000000\n",
       "mean         0.214818\n",
       "std          0.107189\n",
       "min          0.000000\n",
       "25%          0.142609\n",
       "50%          0.205021\n",
       "75%          0.272653\n",
       "max          0.850610\n",
       "Name: difficulty_score, dtype: float64"
      ]
     },
     "execution_count": 95,
     "metadata": {},
     "output_type": "execute_result"
    }
   ],
   "source": [
    "aug_stats.difficulty_score.describe()"
   ]
  },
  {
   "cell_type": "code",
   "execution_count": null,
   "metadata": {},
   "outputs": [],
   "source": []
  }
 ],
 "metadata": {
  "kernelspec": {
   "display_name": "gnn-scheduler-rnVoZpeL-py3.11",
   "language": "python",
   "name": "python3"
  },
  "language_info": {
   "codemirror_mode": {
    "name": "ipython",
    "version": 3
   },
   "file_extension": ".py",
   "mimetype": "text/x-python",
   "name": "python",
   "nbconvert_exporter": "python",
   "pygments_lexer": "ipython3",
   "version": "3.11.6"
  }
 },
 "nbformat": 4,
 "nbformat_minor": 2
}
