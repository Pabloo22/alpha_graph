{
 "cells": [
  {
   "cell_type": "markdown",
   "metadata": {},
   "source": [
    "### Dataset selection"
   ]
  },
  {
   "cell_type": "code",
   "execution_count": 11,
   "metadata": {},
   "outputs": [],
   "source": [
    "import pandas as pd\n",
    "\n",
    "from gnn_scheduler.jssp import load_utils"
   ]
  },
  {
   "cell_type": "code",
   "execution_count": 12,
   "metadata": {},
   "outputs": [],
   "source": [
    "metadata = load_utils.load_metadata()"
   ]
  },
  {
   "cell_type": "code",
   "execution_count": 13,
   "metadata": {},
   "outputs": [
    {
     "data": {
      "text/html": [
       "<div>\n",
       "<style scoped>\n",
       "    .dataframe tbody tr th:only-of-type {\n",
       "        vertical-align: middle;\n",
       "    }\n",
       "\n",
       "    .dataframe tbody tr th {\n",
       "        vertical-align: top;\n",
       "    }\n",
       "\n",
       "    .dataframe thead th {\n",
       "        text-align: right;\n",
       "    }\n",
       "</style>\n",
       "<table border=\"1\" class=\"dataframe\">\n",
       "  <thead>\n",
       "    <tr style=\"text-align: right;\">\n",
       "      <th></th>\n",
       "      <th>name</th>\n",
       "      <th>jobs</th>\n",
       "      <th>machines</th>\n",
       "      <th>optimum</th>\n",
       "      <th>path</th>\n",
       "      <th>bounds</th>\n",
       "    </tr>\n",
       "  </thead>\n",
       "  <tbody>\n",
       "    <tr>\n",
       "      <th>0</th>\n",
       "      <td>abz5</td>\n",
       "      <td>10</td>\n",
       "      <td>10</td>\n",
       "      <td>1234.0</td>\n",
       "      <td>raw/abz5</td>\n",
       "      <td>NaN</td>\n",
       "    </tr>\n",
       "    <tr>\n",
       "      <th>1</th>\n",
       "      <td>abz6</td>\n",
       "      <td>10</td>\n",
       "      <td>10</td>\n",
       "      <td>943.0</td>\n",
       "      <td>raw/abz6</td>\n",
       "      <td>NaN</td>\n",
       "    </tr>\n",
       "    <tr>\n",
       "      <th>2</th>\n",
       "      <td>abz7</td>\n",
       "      <td>20</td>\n",
       "      <td>15</td>\n",
       "      <td>656.0</td>\n",
       "      <td>raw/abz7</td>\n",
       "      <td>NaN</td>\n",
       "    </tr>\n",
       "    <tr>\n",
       "      <th>3</th>\n",
       "      <td>abz8</td>\n",
       "      <td>20</td>\n",
       "      <td>15</td>\n",
       "      <td>NaN</td>\n",
       "      <td>raw/abz8</td>\n",
       "      <td>{'upper': 665, 'lower': 645}</td>\n",
       "    </tr>\n",
       "    <tr>\n",
       "      <th>4</th>\n",
       "      <td>abz9</td>\n",
       "      <td>20</td>\n",
       "      <td>15</td>\n",
       "      <td>678.0</td>\n",
       "      <td>raw/abz9</td>\n",
       "      <td>NaN</td>\n",
       "    </tr>\n",
       "    <tr>\n",
       "      <th>...</th>\n",
       "      <td>...</td>\n",
       "      <td>...</td>\n",
       "      <td>...</td>\n",
       "      <td>...</td>\n",
       "      <td>...</td>\n",
       "      <td>...</td>\n",
       "    </tr>\n",
       "    <tr>\n",
       "      <th>157</th>\n",
       "      <td>ta76</td>\n",
       "      <td>100</td>\n",
       "      <td>20</td>\n",
       "      <td>5342.0</td>\n",
       "      <td>raw/ta76</td>\n",
       "      <td>NaN</td>\n",
       "    </tr>\n",
       "    <tr>\n",
       "      <th>158</th>\n",
       "      <td>ta77</td>\n",
       "      <td>100</td>\n",
       "      <td>20</td>\n",
       "      <td>5436.0</td>\n",
       "      <td>raw/ta77</td>\n",
       "      <td>NaN</td>\n",
       "    </tr>\n",
       "    <tr>\n",
       "      <th>159</th>\n",
       "      <td>ta78</td>\n",
       "      <td>100</td>\n",
       "      <td>20</td>\n",
       "      <td>5394.0</td>\n",
       "      <td>raw/ta78</td>\n",
       "      <td>NaN</td>\n",
       "    </tr>\n",
       "    <tr>\n",
       "      <th>160</th>\n",
       "      <td>ta79</td>\n",
       "      <td>100</td>\n",
       "      <td>20</td>\n",
       "      <td>5358.0</td>\n",
       "      <td>raw/ta79</td>\n",
       "      <td>NaN</td>\n",
       "    </tr>\n",
       "    <tr>\n",
       "      <th>161</th>\n",
       "      <td>ta80</td>\n",
       "      <td>100</td>\n",
       "      <td>20</td>\n",
       "      <td>5183.0</td>\n",
       "      <td>raw/ta80</td>\n",
       "      <td>NaN</td>\n",
       "    </tr>\n",
       "  </tbody>\n",
       "</table>\n",
       "<p>162 rows × 6 columns</p>\n",
       "</div>"
      ],
      "text/plain": [
       "     name  jobs  machines  optimum      path                        bounds\n",
       "0    abz5    10        10   1234.0  raw/abz5                           NaN\n",
       "1    abz6    10        10    943.0  raw/abz6                           NaN\n",
       "2    abz7    20        15    656.0  raw/abz7                           NaN\n",
       "3    abz8    20        15      NaN  raw/abz8  {'upper': 665, 'lower': 645}\n",
       "4    abz9    20        15    678.0  raw/abz9                           NaN\n",
       "..    ...   ...       ...      ...       ...                           ...\n",
       "157  ta76   100        20   5342.0  raw/ta76                           NaN\n",
       "158  ta77   100        20   5436.0  raw/ta77                           NaN\n",
       "159  ta78   100        20   5394.0  raw/ta78                           NaN\n",
       "160  ta79   100        20   5358.0  raw/ta79                           NaN\n",
       "161  ta80   100        20   5183.0  raw/ta80                           NaN\n",
       "\n",
       "[162 rows x 6 columns]"
      ]
     },
     "execution_count": 13,
     "metadata": {},
     "output_type": "execute_result"
    }
   ],
   "source": [
    "df = pd.DataFrame(metadata)\n",
    "df"
   ]
  },
  {
   "cell_type": "code",
   "execution_count": 14,
   "metadata": {},
   "outputs": [
    {
     "data": {
      "text/plain": [
       "<Axes: xlabel='jobs', ylabel='machines'>"
      ]
     },
     "execution_count": 14,
     "metadata": {},
     "output_type": "execute_result"
    },
    {
     "data": {
      "image/png": "[encoded data removed]",
      "text/plain": [
       "<Figure size 640x480 with 1 Axes>"
      ]
     },
     "metadata": {},
     "output_type": "display_data"
    }
   ],
   "source": [
    "df.plot(x=\"jobs\", y=\"machines\", kind=\"scatter\", alpha=0.1)"
   ]
  },
  {
   "cell_type": "code",
   "execution_count": 15,
   "metadata": {},
   "outputs": [
    {
     "data": {
      "text/plain": [
       "<Axes: xlabel='jobs'>"
      ]
     },
     "execution_count": 15,
     "metadata": {},
     "output_type": "execute_result"
    },
    {
     "data": {
      "image/png": "[encoded data removed]",
      "text/plain": [
       "<Figure size 640x480 with 1 Axes>"
      ]
     },
     "metadata": {},
     "output_type": "display_data"
    }
   ],
   "source": [
    "df.jobs.value_counts().sort_index().plot(kind=\"bar\")"
   ]
  },
  {
   "cell_type": "code",
   "execution_count": 16,
   "metadata": {},
   "outputs": [
    {
     "data": {
      "text/plain": [
       "<Axes: xlabel='machines'>"
      ]
     },
     "execution_count": 16,
     "metadata": {},
     "output_type": "execute_result"
    },
    {
     "data": {
      "image/png": "[encoded data removed]",
      "text/plain": [
       "<Figure size 640x480 with 1 Axes>"
      ]
     },
     "metadata": {},
     "output_type": "display_data"
    }
   ],
   "source": [
    "df.machines.value_counts().sort_index().plot(kind=\"bar\")"
   ]
  },
  {
   "cell_type": "code",
   "execution_count": 17,
   "metadata": {},
   "outputs": [
    {
     "data": {
      "text/plain": [
       "<Axes: ylabel='Frequency'>"
      ]
     },
     "execution_count": 17,
     "metadata": {},
     "output_type": "execute_result"
    },
    {
     "data": {
      "image/png": "[encoded data removed]",
      "text/plain": [
       "<Figure size 640x480 with 1 Axes>"
      ]
     },
     "metadata": {},
     "output_type": "display_data"
    }
   ],
   "source": [
    "df.optimum.plot(kind=\"hist\", bins=100)"
   ]
  },
  {
   "cell_type": "code",
   "execution_count": 18,
   "metadata": {},
   "outputs": [
    {
     "data": {
      "text/plain": [
       "<Axes: xlabel='jobs'>"
      ]
     },
     "execution_count": 18,
     "metadata": {},
     "output_type": "execute_result"
    },
    {
     "data": {
      "image/png": "[encoded data removed]",
      "text/plain": [
       "<Figure size 640x480 with 1 Axes>"
      ]
     },
     "metadata": {},
     "output_type": "display_data"
    }
   ],
   "source": [
    "# Let's group by the number of jobs and analyze the optimum\n",
    "df.groupby(\"jobs\").optimum.mean().plot(kind=\"bar\")"
   ]
  },
  {
   "cell_type": "code",
   "execution_count": 19,
   "metadata": {},
   "outputs": [
    {
     "data": {
      "text/plain": [
       "<Axes: xlabel='machines'>"
      ]
     },
     "execution_count": 19,
     "metadata": {},
     "output_type": "execute_result"
    },
    {
     "data": {
      "image/png": "[encoded data removed]",
      "text/plain": [
       "<Figure size 640x480 with 1 Axes>"
      ]
     },
     "metadata": {},
     "output_type": "display_data"
    }
   ],
   "source": [
    "# Let's group by the number of machines and analyze the optimum\n",
    "df.groupby(\"machines\").optimum.mean().plot(kind=\"bar\")"
   ]
  },
  {
   "cell_type": "code",
   "execution_count": 20,
   "metadata": {},
   "outputs": [
    {
     "data": {
      "text/plain": [
       "50"
      ]
     },
     "execution_count": 20,
     "metadata": {},
     "output_type": "execute_result"
    }
   ],
   "source": [
    "# For the dataset selection we can filter by the number of jobs and machines\n",
    "# For example, we can select all the instances with 20 or less jobs and 10 or \n",
    "# less machines\n",
    "selected_instances = df[(df.jobs <= 20) & (df.machines <= 10)]\n",
    "len(selected_instances)"
   ]
  },
  {
   "cell_type": "code",
   "execution_count": 21,
   "metadata": {},
   "outputs": [
    {
     "data": {
      "text/plain": [
       "0.30864197530864196"
      ]
     },
     "execution_count": 21,
     "metadata": {},
     "output_type": "execute_result"
    }
   ],
   "source": [
    "len(selected_instances) / len(df)"
   ]
  },
  {
   "cell_type": "code",
   "execution_count": 22,
   "metadata": {},
   "outputs": [
    {
     "data": {
      "text/html": [
       "<div>\n",
       "<style scoped>\n",
       "    .dataframe tbody tr th:only-of-type {\n",
       "        vertical-align: middle;\n",
       "    }\n",
       "\n",
       "    .dataframe tbody tr th {\n",
       "        vertical-align: top;\n",
       "    }\n",
       "\n",
       "    .dataframe thead th {\n",
       "        text-align: right;\n",
       "    }\n",
       "</style>\n",
       "<table border=\"1\" class=\"dataframe\">\n",
       "  <thead>\n",
       "    <tr style=\"text-align: right;\">\n",
       "      <th></th>\n",
       "      <th>name</th>\n",
       "      <th>jobs</th>\n",
       "      <th>machines</th>\n",
       "      <th>optimum</th>\n",
       "      <th>path</th>\n",
       "      <th>bounds</th>\n",
       "    </tr>\n",
       "  </thead>\n",
       "  <tbody>\n",
       "    <tr>\n",
       "      <th>0</th>\n",
       "      <td>abz5</td>\n",
       "      <td>10</td>\n",
       "      <td>10</td>\n",
       "      <td>1234.0</td>\n",
       "      <td>raw/abz5</td>\n",
       "      <td>NaN</td>\n",
       "    </tr>\n",
       "    <tr>\n",
       "      <th>1</th>\n",
       "      <td>abz6</td>\n",
       "      <td>10</td>\n",
       "      <td>10</td>\n",
       "      <td>943.0</td>\n",
       "      <td>raw/abz6</td>\n",
       "      <td>NaN</td>\n",
       "    </tr>\n",
       "    <tr>\n",
       "      <th>5</th>\n",
       "      <td>ft06</td>\n",
       "      <td>6</td>\n",
       "      <td>6</td>\n",
       "      <td>55.0</td>\n",
       "      <td>raw/ft06</td>\n",
       "      <td>NaN</td>\n",
       "    </tr>\n",
       "    <tr>\n",
       "      <th>6</th>\n",
       "      <td>ft10</td>\n",
       "      <td>10</td>\n",
       "      <td>10</td>\n",
       "      <td>930.0</td>\n",
       "      <td>raw/ft10</td>\n",
       "      <td>NaN</td>\n",
       "    </tr>\n",
       "    <tr>\n",
       "      <th>7</th>\n",
       "      <td>ft20</td>\n",
       "      <td>20</td>\n",
       "      <td>5</td>\n",
       "      <td>1165.0</td>\n",
       "      <td>raw/ft20</td>\n",
       "      <td>NaN</td>\n",
       "    </tr>\n",
       "    <tr>\n",
       "      <th>8</th>\n",
       "      <td>la01</td>\n",
       "      <td>10</td>\n",
       "      <td>5</td>\n",
       "      <td>666.0</td>\n",
       "      <td>raw/la01</td>\n",
       "      <td>NaN</td>\n",
       "    </tr>\n",
       "    <tr>\n",
       "      <th>9</th>\n",
       "      <td>la02</td>\n",
       "      <td>10</td>\n",
       "      <td>5</td>\n",
       "      <td>655.0</td>\n",
       "      <td>raw/la02</td>\n",
       "      <td>NaN</td>\n",
       "    </tr>\n",
       "    <tr>\n",
       "      <th>10</th>\n",
       "      <td>la03</td>\n",
       "      <td>10</td>\n",
       "      <td>5</td>\n",
       "      <td>597.0</td>\n",
       "      <td>raw/la03</td>\n",
       "      <td>NaN</td>\n",
       "    </tr>\n",
       "    <tr>\n",
       "      <th>11</th>\n",
       "      <td>la04</td>\n",
       "      <td>10</td>\n",
       "      <td>5</td>\n",
       "      <td>590.0</td>\n",
       "      <td>raw/la04</td>\n",
       "      <td>NaN</td>\n",
       "    </tr>\n",
       "    <tr>\n",
       "      <th>12</th>\n",
       "      <td>la05</td>\n",
       "      <td>10</td>\n",
       "      <td>5</td>\n",
       "      <td>593.0</td>\n",
       "      <td>raw/la05</td>\n",
       "      <td>NaN</td>\n",
       "    </tr>\n",
       "    <tr>\n",
       "      <th>13</th>\n",
       "      <td>la06</td>\n",
       "      <td>15</td>\n",
       "      <td>5</td>\n",
       "      <td>926.0</td>\n",
       "      <td>raw/la06</td>\n",
       "      <td>NaN</td>\n",
       "    </tr>\n",
       "    <tr>\n",
       "      <th>14</th>\n",
       "      <td>la07</td>\n",
       "      <td>15</td>\n",
       "      <td>5</td>\n",
       "      <td>890.0</td>\n",
       "      <td>raw/la07</td>\n",
       "      <td>NaN</td>\n",
       "    </tr>\n",
       "    <tr>\n",
       "      <th>15</th>\n",
       "      <td>la08</td>\n",
       "      <td>15</td>\n",
       "      <td>5</td>\n",
       "      <td>863.0</td>\n",
       "      <td>raw/la08</td>\n",
       "      <td>NaN</td>\n",
       "    </tr>\n",
       "    <tr>\n",
       "      <th>16</th>\n",
       "      <td>la09</td>\n",
       "      <td>15</td>\n",
       "      <td>5</td>\n",
       "      <td>951.0</td>\n",
       "      <td>raw/la09</td>\n",
       "      <td>NaN</td>\n",
       "    </tr>\n",
       "    <tr>\n",
       "      <th>17</th>\n",
       "      <td>la10</td>\n",
       "      <td>15</td>\n",
       "      <td>5</td>\n",
       "      <td>958.0</td>\n",
       "      <td>raw/la10</td>\n",
       "      <td>NaN</td>\n",
       "    </tr>\n",
       "    <tr>\n",
       "      <th>18</th>\n",
       "      <td>la11</td>\n",
       "      <td>20</td>\n",
       "      <td>5</td>\n",
       "      <td>1222.0</td>\n",
       "      <td>raw/la11</td>\n",
       "      <td>NaN</td>\n",
       "    </tr>\n",
       "    <tr>\n",
       "      <th>19</th>\n",
       "      <td>la12</td>\n",
       "      <td>20</td>\n",
       "      <td>5</td>\n",
       "      <td>1039.0</td>\n",
       "      <td>raw/la12</td>\n",
       "      <td>NaN</td>\n",
       "    </tr>\n",
       "    <tr>\n",
       "      <th>20</th>\n",
       "      <td>la13</td>\n",
       "      <td>20</td>\n",
       "      <td>5</td>\n",
       "      <td>1150.0</td>\n",
       "      <td>raw/la13</td>\n",
       "      <td>NaN</td>\n",
       "    </tr>\n",
       "    <tr>\n",
       "      <th>21</th>\n",
       "      <td>la14</td>\n",
       "      <td>20</td>\n",
       "      <td>5</td>\n",
       "      <td>1292.0</td>\n",
       "      <td>raw/la14</td>\n",
       "      <td>NaN</td>\n",
       "    </tr>\n",
       "    <tr>\n",
       "      <th>22</th>\n",
       "      <td>la15</td>\n",
       "      <td>20</td>\n",
       "      <td>5</td>\n",
       "      <td>1207.0</td>\n",
       "      <td>raw/la15</td>\n",
       "      <td>NaN</td>\n",
       "    </tr>\n",
       "    <tr>\n",
       "      <th>23</th>\n",
       "      <td>la16</td>\n",
       "      <td>10</td>\n",
       "      <td>10</td>\n",
       "      <td>945.0</td>\n",
       "      <td>raw/la16</td>\n",
       "      <td>NaN</td>\n",
       "    </tr>\n",
       "    <tr>\n",
       "      <th>24</th>\n",
       "      <td>la17</td>\n",
       "      <td>10</td>\n",
       "      <td>10</td>\n",
       "      <td>784.0</td>\n",
       "      <td>raw/la17</td>\n",
       "      <td>NaN</td>\n",
       "    </tr>\n",
       "    <tr>\n",
       "      <th>25</th>\n",
       "      <td>la18</td>\n",
       "      <td>10</td>\n",
       "      <td>10</td>\n",
       "      <td>848.0</td>\n",
       "      <td>raw/la18</td>\n",
       "      <td>NaN</td>\n",
       "    </tr>\n",
       "    <tr>\n",
       "      <th>26</th>\n",
       "      <td>la19</td>\n",
       "      <td>10</td>\n",
       "      <td>10</td>\n",
       "      <td>842.0</td>\n",
       "      <td>raw/la19</td>\n",
       "      <td>NaN</td>\n",
       "    </tr>\n",
       "    <tr>\n",
       "      <th>27</th>\n",
       "      <td>la20</td>\n",
       "      <td>10</td>\n",
       "      <td>10</td>\n",
       "      <td>902.0</td>\n",
       "      <td>raw/la20</td>\n",
       "      <td>NaN</td>\n",
       "    </tr>\n",
       "    <tr>\n",
       "      <th>28</th>\n",
       "      <td>la21</td>\n",
       "      <td>15</td>\n",
       "      <td>10</td>\n",
       "      <td>1046.0</td>\n",
       "      <td>raw/la21</td>\n",
       "      <td>NaN</td>\n",
       "    </tr>\n",
       "    <tr>\n",
       "      <th>29</th>\n",
       "      <td>la22</td>\n",
       "      <td>15</td>\n",
       "      <td>10</td>\n",
       "      <td>927.0</td>\n",
       "      <td>raw/la22</td>\n",
       "      <td>NaN</td>\n",
       "    </tr>\n",
       "    <tr>\n",
       "      <th>30</th>\n",
       "      <td>la23</td>\n",
       "      <td>15</td>\n",
       "      <td>10</td>\n",
       "      <td>1032.0</td>\n",
       "      <td>raw/la23</td>\n",
       "      <td>NaN</td>\n",
       "    </tr>\n",
       "    <tr>\n",
       "      <th>31</th>\n",
       "      <td>la24</td>\n",
       "      <td>15</td>\n",
       "      <td>10</td>\n",
       "      <td>935.0</td>\n",
       "      <td>raw/la24</td>\n",
       "      <td>NaN</td>\n",
       "    </tr>\n",
       "    <tr>\n",
       "      <th>32</th>\n",
       "      <td>la25</td>\n",
       "      <td>15</td>\n",
       "      <td>10</td>\n",
       "      <td>977.0</td>\n",
       "      <td>raw/la25</td>\n",
       "      <td>NaN</td>\n",
       "    </tr>\n",
       "    <tr>\n",
       "      <th>33</th>\n",
       "      <td>la26</td>\n",
       "      <td>20</td>\n",
       "      <td>10</td>\n",
       "      <td>1218.0</td>\n",
       "      <td>raw/la26</td>\n",
       "      <td>NaN</td>\n",
       "    </tr>\n",
       "    <tr>\n",
       "      <th>34</th>\n",
       "      <td>la27</td>\n",
       "      <td>20</td>\n",
       "      <td>10</td>\n",
       "      <td>1235.0</td>\n",
       "      <td>raw/la27</td>\n",
       "      <td>NaN</td>\n",
       "    </tr>\n",
       "    <tr>\n",
       "      <th>35</th>\n",
       "      <td>la28</td>\n",
       "      <td>20</td>\n",
       "      <td>10</td>\n",
       "      <td>1216.0</td>\n",
       "      <td>raw/la28</td>\n",
       "      <td>NaN</td>\n",
       "    </tr>\n",
       "    <tr>\n",
       "      <th>36</th>\n",
       "      <td>la29</td>\n",
       "      <td>20</td>\n",
       "      <td>10</td>\n",
       "      <td>1152.0</td>\n",
       "      <td>raw/la29</td>\n",
       "      <td>NaN</td>\n",
       "    </tr>\n",
       "    <tr>\n",
       "      <th>37</th>\n",
       "      <td>la30</td>\n",
       "      <td>20</td>\n",
       "      <td>10</td>\n",
       "      <td>1355.0</td>\n",
       "      <td>raw/la30</td>\n",
       "      <td>NaN</td>\n",
       "    </tr>\n",
       "    <tr>\n",
       "      <th>48</th>\n",
       "      <td>orb01</td>\n",
       "      <td>10</td>\n",
       "      <td>10</td>\n",
       "      <td>1059.0</td>\n",
       "      <td>raw/orb01</td>\n",
       "      <td>NaN</td>\n",
       "    </tr>\n",
       "    <tr>\n",
       "      <th>49</th>\n",
       "      <td>orb02</td>\n",
       "      <td>10</td>\n",
       "      <td>10</td>\n",
       "      <td>888.0</td>\n",
       "      <td>raw/orb02</td>\n",
       "      <td>NaN</td>\n",
       "    </tr>\n",
       "    <tr>\n",
       "      <th>50</th>\n",
       "      <td>orb03</td>\n",
       "      <td>10</td>\n",
       "      <td>10</td>\n",
       "      <td>1005.0</td>\n",
       "      <td>raw/orb03</td>\n",
       "      <td>NaN</td>\n",
       "    </tr>\n",
       "    <tr>\n",
       "      <th>51</th>\n",
       "      <td>orb04</td>\n",
       "      <td>10</td>\n",
       "      <td>10</td>\n",
       "      <td>1005.0</td>\n",
       "      <td>raw/orb04</td>\n",
       "      <td>NaN</td>\n",
       "    </tr>\n",
       "    <tr>\n",
       "      <th>52</th>\n",
       "      <td>orb05</td>\n",
       "      <td>10</td>\n",
       "      <td>10</td>\n",
       "      <td>887.0</td>\n",
       "      <td>raw/orb05</td>\n",
       "      <td>NaN</td>\n",
       "    </tr>\n",
       "    <tr>\n",
       "      <th>53</th>\n",
       "      <td>orb06</td>\n",
       "      <td>10</td>\n",
       "      <td>10</td>\n",
       "      <td>1010.0</td>\n",
       "      <td>raw/orb06</td>\n",
       "      <td>NaN</td>\n",
       "    </tr>\n",
       "    <tr>\n",
       "      <th>54</th>\n",
       "      <td>orb07</td>\n",
       "      <td>10</td>\n",
       "      <td>10</td>\n",
       "      <td>397.0</td>\n",
       "      <td>raw/orb07</td>\n",
       "      <td>NaN</td>\n",
       "    </tr>\n",
       "    <tr>\n",
       "      <th>55</th>\n",
       "      <td>orb08</td>\n",
       "      <td>10</td>\n",
       "      <td>10</td>\n",
       "      <td>899.0</td>\n",
       "      <td>raw/orb08</td>\n",
       "      <td>NaN</td>\n",
       "    </tr>\n",
       "    <tr>\n",
       "      <th>56</th>\n",
       "      <td>orb09</td>\n",
       "      <td>10</td>\n",
       "      <td>10</td>\n",
       "      <td>934.0</td>\n",
       "      <td>raw/orb09</td>\n",
       "      <td>NaN</td>\n",
       "    </tr>\n",
       "    <tr>\n",
       "      <th>57</th>\n",
       "      <td>orb10</td>\n",
       "      <td>10</td>\n",
       "      <td>10</td>\n",
       "      <td>944.0</td>\n",
       "      <td>raw/orb10</td>\n",
       "      <td>NaN</td>\n",
       "    </tr>\n",
       "    <tr>\n",
       "      <th>58</th>\n",
       "      <td>swv01</td>\n",
       "      <td>20</td>\n",
       "      <td>10</td>\n",
       "      <td>1407.0</td>\n",
       "      <td>raw/swv01</td>\n",
       "      <td>NaN</td>\n",
       "    </tr>\n",
       "    <tr>\n",
       "      <th>59</th>\n",
       "      <td>swv02</td>\n",
       "      <td>20</td>\n",
       "      <td>10</td>\n",
       "      <td>1475.0</td>\n",
       "      <td>raw/swv02</td>\n",
       "      <td>NaN</td>\n",
       "    </tr>\n",
       "    <tr>\n",
       "      <th>60</th>\n",
       "      <td>swv03</td>\n",
       "      <td>20</td>\n",
       "      <td>10</td>\n",
       "      <td>1398.0</td>\n",
       "      <td>raw/swv03</td>\n",
       "      <td>NaN</td>\n",
       "    </tr>\n",
       "    <tr>\n",
       "      <th>61</th>\n",
       "      <td>swv04</td>\n",
       "      <td>20</td>\n",
       "      <td>10</td>\n",
       "      <td>1464.0</td>\n",
       "      <td>raw/swv04</td>\n",
       "      <td>NaN</td>\n",
       "    </tr>\n",
       "    <tr>\n",
       "      <th>62</th>\n",
       "      <td>swv05</td>\n",
       "      <td>20</td>\n",
       "      <td>10</td>\n",
       "      <td>1424.0</td>\n",
       "      <td>raw/swv05</td>\n",
       "      <td>NaN</td>\n",
       "    </tr>\n",
       "  </tbody>\n",
       "</table>\n",
       "</div>"
      ],
      "text/plain": [
       "     name  jobs  machines  optimum       path bounds\n",
       "0    abz5    10        10   1234.0   raw/abz5    NaN\n",
       "1    abz6    10        10    943.0   raw/abz6    NaN\n",
       "5    ft06     6         6     55.0   raw/ft06    NaN\n",
       "6    ft10    10        10    930.0   raw/ft10    NaN\n",
       "7    ft20    20         5   1165.0   raw/ft20    NaN\n",
       "8    la01    10         5    666.0   raw/la01    NaN\n",
       "9    la02    10         5    655.0   raw/la02    NaN\n",
       "10   la03    10         5    597.0   raw/la03    NaN\n",
       "11   la04    10         5    590.0   raw/la04    NaN\n",
       "12   la05    10         5    593.0   raw/la05    NaN\n",
       "13   la06    15         5    926.0   raw/la06    NaN\n",
       "14   la07    15         5    890.0   raw/la07    NaN\n",
       "15   la08    15         5    863.0   raw/la08    NaN\n",
       "16   la09    15         5    951.0   raw/la09    NaN\n",
       "17   la10    15         5    958.0   raw/la10    NaN\n",
       "18   la11    20         5   1222.0   raw/la11    NaN\n",
       "19   la12    20         5   1039.0   raw/la12    NaN\n",
       "20   la13    20         5   1150.0   raw/la13    NaN\n",
       "21   la14    20         5   1292.0   raw/la14    NaN\n",
       "22   la15    20         5   1207.0   raw/la15    NaN\n",
       "23   la16    10        10    945.0   raw/la16    NaN\n",
       "24   la17    10        10    784.0   raw/la17    NaN\n",
       "25   la18    10        10    848.0   raw/la18    NaN\n",
       "26   la19    10        10    842.0   raw/la19    NaN\n",
       "27   la20    10        10    902.0   raw/la20    NaN\n",
       "28   la21    15        10   1046.0   raw/la21    NaN\n",
       "29   la22    15        10    927.0   raw/la22    NaN\n",
       "30   la23    15        10   1032.0   raw/la23    NaN\n",
       "31   la24    15        10    935.0   raw/la24    NaN\n",
       "32   la25    15        10    977.0   raw/la25    NaN\n",
       "33   la26    20        10   1218.0   raw/la26    NaN\n",
       "34   la27    20        10   1235.0   raw/la27    NaN\n",
       "35   la28    20        10   1216.0   raw/la28    NaN\n",
       "36   la29    20        10   1152.0   raw/la29    NaN\n",
       "37   la30    20        10   1355.0   raw/la30    NaN\n",
       "48  orb01    10        10   1059.0  raw/orb01    NaN\n",
       "49  orb02    10        10    888.0  raw/orb02    NaN\n",
       "50  orb03    10        10   1005.0  raw/orb03    NaN\n",
       "51  orb04    10        10   1005.0  raw/orb04    NaN\n",
       "52  orb05    10        10    887.0  raw/orb05    NaN\n",
       "53  orb06    10        10   1010.0  raw/orb06    NaN\n",
       "54  orb07    10        10    397.0  raw/orb07    NaN\n",
       "55  orb08    10        10    899.0  raw/orb08    NaN\n",
       "56  orb09    10        10    934.0  raw/orb09    NaN\n",
       "57  orb10    10        10    944.0  raw/orb10    NaN\n",
       "58  swv01    20        10   1407.0  raw/swv01    NaN\n",
       "59  swv02    20        10   1475.0  raw/swv02    NaN\n",
       "60  swv03    20        10   1398.0  raw/swv03    NaN\n",
       "61  swv04    20        10   1464.0  raw/swv04    NaN\n",
       "62  swv05    20        10   1424.0  raw/swv05    NaN"
      ]
     },
     "execution_count": 22,
     "metadata": {},
     "output_type": "execute_result"
    }
   ],
   "source": [
    "selected_instances"
   ]
  },
  {
   "cell_type": "markdown",
   "metadata": {},
   "source": [
    "Let's see how many edges swv04 has"
   ]
  },
  {
   "cell_type": "code",
   "execution_count": 23,
   "metadata": {},
   "outputs": [
    {
     "data": {
      "text/plain": [
       "4020"
      ]
     },
     "execution_count": 23,
     "metadata": {},
     "output_type": "execute_result"
    }
   ],
   "source": [
    "from gnn_scheduler.jssp import load_from_benchmark\n",
    "\n",
    "\n",
    "swv04 = load_from_benchmark(\"swv04\")\n",
    "swv04.disjunctive_graph.number_of_edges()"
   ]
  },
  {
   "cell_type": "code",
   "execution_count": 24,
   "metadata": {},
   "outputs": [
    {
     "data": {
      "text/plain": [
       "202"
      ]
     },
     "execution_count": 24,
     "metadata": {},
     "output_type": "execute_result"
    }
   ],
   "source": [
    "swv04.disjunctive_graph.number_of_nodes()"
   ]
  },
  {
   "cell_type": "code",
   "execution_count": 25,
   "metadata": {},
   "outputs": [
    {
     "data": {
      "text/plain": [
       "4020"
      ]
     },
     "execution_count": 25,
     "metadata": {},
     "output_type": "execute_result"
    }
   ],
   "source": [
    "la26 = load_from_benchmark(\"la26\")\n",
    "la26.disjunctive_graph.number_of_edges()"
   ]
  },
  {
   "cell_type": "code",
   "execution_count": 27,
   "metadata": {},
   "outputs": [],
   "source": [
    "from gnn_scheduler.jssp import load_all_from_benchmark"
   ]
  },
  {
   "cell_type": "code",
   "execution_count": 28,
   "metadata": {},
   "outputs": [
    {
     "data": {
      "text/plain": [
       "50"
      ]
     },
     "execution_count": 28,
     "metadata": {},
     "output_type": "execute_result"
    }
   ],
   "source": [
    "selected_instances_names = selected_instances.name.values\n",
    "len(load_all_from_benchmark(list_of_instances=selected_instances_names))"
   ]
  },
  {
   "cell_type": "code",
   "execution_count": 29,
   "metadata": {},
   "outputs": [
    {
     "data": {
      "text/plain": [
       "50"
      ]
     },
     "execution_count": 29,
     "metadata": {},
     "output_type": "execute_result"
    }
   ],
   "source": [
    "len(selected_instances)"
   ]
  },
  {
   "cell_type": "code",
   "execution_count": 30,
   "metadata": {},
   "outputs": [
    {
     "data": {
      "text/plain": [
       "50"
      ]
     },
     "execution_count": 30,
     "metadata": {},
     "output_type": "execute_result"
    }
   ],
   "source": [
    "len(load_all_from_benchmark(max_jobs=20, max_machines=10))"
   ]
  },
  {
   "cell_type": "code",
   "execution_count": 35,
   "metadata": {},
   "outputs": [],
   "source": [
    "instances = load_all_from_benchmark(max_jobs=20, max_machines=10)\n",
    "instances_names = {instance.name for instance in instances}\n",
    "assert set(selected_instances_names) == instances_names\n"
   ]
  },
  {
   "cell_type": "code",
   "execution_count": 36,
   "metadata": {},
   "outputs": [],
   "source": [
    "instances = load_all_from_benchmark(list_of_instances=selected_instances_names)\n",
    "instances_names = {instance.name for instance in instances}\n",
    "assert set(selected_instances_names) == instances_names"
   ]
  }
 ],
 "metadata": {
  "kernelspec": {
   "display_name": "gnn-scheduler-rnVoZpeL-py3.11",
   "language": "python",
   "name": "python3"
  },
  "language_info": {
   "codemirror_mode": {
    "name": "ipython",
    "version": 3
   },
   "file_extension": ".py",
   "mimetype": "text/x-python",
   "name": "python",
   "nbconvert_exporter": "python",
   "pygments_lexer": "ipython3",
   "version": "3.11.6"
  }
 },
 "nbformat": 4,
 "nbformat_minor": 2
}
