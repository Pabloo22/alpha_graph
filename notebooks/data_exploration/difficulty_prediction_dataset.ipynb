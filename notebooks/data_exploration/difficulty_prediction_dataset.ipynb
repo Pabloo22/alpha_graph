{
 "cells": [
  {
   "cell_type": "code",
   "execution_count": 5,
   "metadata": {},
   "outputs": [],
   "source": [
    "import pandas as pd\n",
    "from ydata_profiling import ProfileReport\n",
    "\n",
    "from gnn_scheduler import get_project_path\n",
    "from gnn_scheduler.jssp import load_pickle_instances"
   ]
  },
  {
   "cell_type": "code",
   "execution_count": 6,
   "metadata": {},
   "outputs": [
    {
     "name": "stderr",
     "output_type": "stream",
     "text": [
      "Loading instances:   0%|          | 0/49519 [00:00<?, ?it/s]"
     ]
    },
    {
     "name": "stderr",
     "output_type": "stream",
     "text": [
      "Loading instances: 100%|██████████| 49519/49519 [00:07<00:00, 6207.39it/s] \n"
     ]
    },
    {
     "data": {
      "text/plain": [
       "49519"
      ]
     },
     "execution_count": 6,
     "metadata": {},
     "output_type": "execute_result"
    }
   ],
   "source": [
    "# Load instances from \"diff_prediction_instances folder\"\n",
    "instances = load_pickle_instances(folder_name=\"diff_prediction_instances\")"
   ]
  },
  {
   "cell_type": "code",
   "execution_count": 9,
   "metadata": {},
   "outputs": [
    {
     "data": {
      "text/html": [
       "<div>\n",
       "<style scoped>\n",
       "    .dataframe tbody tr th:only-of-type {\n",
       "        vertical-align: middle;\n",
       "    }\n",
       "\n",
       "    .dataframe tbody tr th {\n",
       "        vertical-align: top;\n",
       "    }\n",
       "\n",
       "    .dataframe thead th {\n",
       "        text-align: right;\n",
       "    }\n",
       "</style>\n",
       "<table border=\"1\" class=\"dataframe\">\n",
       "  <thead>\n",
       "    <tr style=\"text-align: right;\">\n",
       "      <th></th>\n",
       "      <th>name</th>\n",
       "      <th>n_jobs</th>\n",
       "      <th>lower_bound</th>\n",
       "      <th>upper_bound</th>\n",
       "      <th>is_optimal</th>\n",
       "      <th>no_solution</th>\n",
       "      <th>max_machine_load_div_upper_bound</th>\n",
       "      <th>upper_bound_div_max_machine_load_minus_1</th>\n",
       "      <th>upper_bound_div_max_job_duration_minus_1</th>\n",
       "    </tr>\n",
       "  </thead>\n",
       "  <tbody>\n",
       "    <tr>\n",
       "      <th>0</th>\n",
       "      <td>naive_generated_instance_35302</td>\n",
       "      <td>20</td>\n",
       "      <td>1092</td>\n",
       "      <td>1388</td>\n",
       "      <td>False</td>\n",
       "      <td>False</td>\n",
       "      <td>0.786744</td>\n",
       "      <td>0.271062</td>\n",
       "      <td>1.161994</td>\n",
       "    </tr>\n",
       "    <tr>\n",
       "      <th>1</th>\n",
       "      <td>naive_generated_instance_49119</td>\n",
       "      <td>10</td>\n",
       "      <td>668</td>\n",
       "      <td>791</td>\n",
       "      <td>False</td>\n",
       "      <td>False</td>\n",
       "      <td>0.844501</td>\n",
       "      <td>0.184132</td>\n",
       "      <td>0.305281</td>\n",
       "    </tr>\n",
       "    <tr>\n",
       "      <th>2</th>\n",
       "      <td>naive_generated_instance_39795</td>\n",
       "      <td>16</td>\n",
       "      <td>1005</td>\n",
       "      <td>1232</td>\n",
       "      <td>False</td>\n",
       "      <td>False</td>\n",
       "      <td>0.815747</td>\n",
       "      <td>0.225871</td>\n",
       "      <td>0.910078</td>\n",
       "    </tr>\n",
       "    <tr>\n",
       "      <th>3</th>\n",
       "      <td>naive_generated_instance_26963</td>\n",
       "      <td>13</td>\n",
       "      <td>825</td>\n",
       "      <td>965</td>\n",
       "      <td>False</td>\n",
       "      <td>False</td>\n",
       "      <td>0.854922</td>\n",
       "      <td>0.169697</td>\n",
       "      <td>0.291834</td>\n",
       "    </tr>\n",
       "    <tr>\n",
       "      <th>4</th>\n",
       "      <td>naive_generated_instance_33786</td>\n",
       "      <td>19</td>\n",
       "      <td>1057</td>\n",
       "      <td>1296</td>\n",
       "      <td>False</td>\n",
       "      <td>False</td>\n",
       "      <td>0.815586</td>\n",
       "      <td>0.226112</td>\n",
       "      <td>0.954751</td>\n",
       "    </tr>\n",
       "  </tbody>\n",
       "</table>\n",
       "</div>"
      ],
      "text/plain": [
       "                             name  n_jobs  lower_bound  upper_bound  \\\n",
       "0  naive_generated_instance_35302      20         1092         1388   \n",
       "1  naive_generated_instance_49119      10          668          791   \n",
       "2  naive_generated_instance_39795      16         1005         1232   \n",
       "3  naive_generated_instance_26963      13          825          965   \n",
       "4  naive_generated_instance_33786      19         1057         1296   \n",
       "\n",
       "   is_optimal  no_solution  max_machine_load_div_upper_bound  \\\n",
       "0       False        False                          0.786744   \n",
       "1       False        False                          0.844501   \n",
       "2       False        False                          0.815747   \n",
       "3       False        False                          0.854922   \n",
       "4       False        False                          0.815586   \n",
       "\n",
       "   upper_bound_div_max_machine_load_minus_1  \\\n",
       "0                                  0.271062   \n",
       "1                                  0.184132   \n",
       "2                                  0.225871   \n",
       "3                                  0.169697   \n",
       "4                                  0.226112   \n",
       "\n",
       "   upper_bound_div_max_job_duration_minus_1  \n",
       "0                                  1.161994  \n",
       "1                                  0.305281  \n",
       "2                                  0.910078  \n",
       "3                                  0.291834  \n",
       "4                                  0.954751  "
      ]
     },
     "execution_count": 9,
     "metadata": {},
     "output_type": "execute_result"
    }
   ],
   "source": [
    "names = []\n",
    "lower_bounds = []\n",
    "upper_bounds = []\n",
    "is_optimal = []\n",
    "n_jobs = []\n",
    "no_solutions = []  # True if upper_bound is lower_bound * 2\n",
    "# In this case lower_bound is max_machine_load\n",
    "max_machine_load_div_upper_bound = []  # lower_bound / upper_bound\n",
    "upper_bound_div_max_machine_load_minus_1 = []  # upper_bound / lower_bound - 1\n",
    "upper_bound_div_max_job_duration_minus_1 = []  # upper_bound / max_job_duration - 1\n",
    "for instance in instances:\n",
    "    names.append(instance.name)\n",
    "    lower_bounds.append(instance.lower_bound)\n",
    "    upper_bounds.append(instance.upper_bound)\n",
    "    n_jobs.append(instance.n_jobs)\n",
    "    is_optimal.append(instance.optimum is not None)\n",
    "\n",
    "    no_solution = instance.upper_bound == instance.lower_bound * 2\n",
    "    no_solutions.append(no_solution)\n",
    "\n",
    "    difficulty_score_1 = instance.lower_bound / instance.upper_bound\n",
    "    max_machine_load_div_upper_bound.append(difficulty_score_1)\n",
    "\n",
    "    difficulty_score_2 = instance.upper_bound / instance.lower_bound - 1\n",
    "    upper_bound_div_max_machine_load_minus_1.append(difficulty_score_2)\n",
    "\n",
    "    difficulty_score_3 = instance.upper_bound / instance.max_job_duration - 1\n",
    "    upper_bound_div_max_job_duration_minus_1.append(difficulty_score_3)\n",
    "\n",
    "\n",
    "# Create dataframe\n",
    "df = pd.DataFrame(\n",
    "    {\n",
    "        \"name\": names,\n",
    "        \"n_jobs\": n_jobs,\n",
    "        \"lower_bound\": lower_bounds,\n",
    "        \"upper_bound\": upper_bounds,\n",
    "        \"is_optimal\": is_optimal,\n",
    "        \"no_solution\": no_solutions,\n",
    "        \"max_machine_load_div_upper_bound\": max_machine_load_div_upper_bound,\n",
    "        \"upper_bound_div_max_machine_load_minus_1\": upper_bound_div_max_machine_load_minus_1,\n",
    "        \"upper_bound_div_max_job_duration_minus_1\": upper_bound_div_max_job_duration_minus_1,\n",
    "    }\n",
    ")\n",
    "df.head()"
   ]
  },
  {
   "cell_type": "code",
   "execution_count": 10,
   "metadata": {},
   "outputs": [
    {
     "name": "stderr",
     "output_type": "stream",
     "text": [
      "Summarize dataset:   0%|          | 0/5 [00:00<?, ?it/s]"
     ]
    },
    {
     "name": "stderr",
     "output_type": "stream",
     "text": [
      "/home/pablo/.cache/pypoetry/virtualenvs/gnn-scheduler-rnVoZpeL-py3.11/lib/python3.11/site-packages/ydata_profiling/model/typeset.py:208: FutureWarning: is_categorical_dtype is deprecated and will be removed in a future version. Use isinstance(dtype, CategoricalDtype) instead\n",
      "  is_valid_dtype = pdt.is_categorical_dtype(series) and not pdt.is_bool_dtype(\n",
      "/home/pablo/.cache/pypoetry/virtualenvs/gnn-scheduler-rnVoZpeL-py3.11/lib/python3.11/site-packages/ydata_profiling/model/typeset.py:125: FutureWarning: is_categorical_dtype is deprecated and will be removed in a future version. Use isinstance(dtype, CategoricalDtype) instead\n",
      "  not pdt.is_categorical_dtype(series)\n",
      "Summarize dataset:   0%|          | 0/14 [00:00<?, ?it/s, Describe variable:no_solution]/home/pablo/.cache/pypoetry/virtualenvs/gnn-scheduler-rnVoZpeL-py3.11/lib/python3.11/site-packages/ydata_profiling/model/typeset.py:208: FutureWarning: is_categorical_dtype is deprecated and will be removed in a future version. Use isinstance(dtype, CategoricalDtype) instead\n",
      "  is_valid_dtype = pdt.is_categorical_dtype(series) and not pdt.is_bool_dtype(\n",
      "Summarize dataset:   7%|▋         | 1/14 [00:00<00:01,  9.95it/s, Describe variable:no_solution]/home/pablo/.cache/pypoetry/virtualenvs/gnn-scheduler-rnVoZpeL-py3.11/lib/python3.11/site-packages/ydata_profiling/model/typeset_relations.py:34: FutureWarning: is_categorical_dtype is deprecated and will be removed in a future version. Use isinstance(dtype, CategoricalDtype) instead\n",
      "  if pdt.is_categorical_dtype(series):\n",
      "/home/pablo/.cache/pypoetry/virtualenvs/gnn-scheduler-rnVoZpeL-py3.11/lib/python3.11/site-packages/ydata_profiling/model/typeset.py:208: FutureWarning: is_categorical_dtype is deprecated and will be removed in a future version. Use isinstance(dtype, CategoricalDtype) instead\n",
      "  is_valid_dtype = pdt.is_categorical_dtype(series) and not pdt.is_bool_dtype(\n",
      "Summarize dataset:   7%|▋         | 1/14 [00:00<00:01,  9.95it/s, Describe variable:is_optimal] /home/pablo/.cache/pypoetry/virtualenvs/gnn-scheduler-rnVoZpeL-py3.11/lib/python3.11/site-packages/ydata_profiling/model/typeset.py:208: FutureWarning: is_categorical_dtype is deprecated and will be removed in a future version. Use isinstance(dtype, CategoricalDtype) instead\n",
      "  is_valid_dtype = pdt.is_categorical_dtype(series) and not pdt.is_bool_dtype(\n",
      "/home/pablo/.cache/pypoetry/virtualenvs/gnn-scheduler-rnVoZpeL-py3.11/lib/python3.11/site-packages/ydata_profiling/model/typeset.py:125: FutureWarning: is_categorical_dtype is deprecated and will be removed in a future version. Use isinstance(dtype, CategoricalDtype) instead\n",
      "  not pdt.is_categorical_dtype(series)\n",
      "/home/pablo/.cache/pypoetry/virtualenvs/gnn-scheduler-rnVoZpeL-py3.11/lib/python3.11/site-packages/ydata_profiling/model/typeset_relations.py:34: FutureWarning: is_categorical_dtype is deprecated and will be removed in a future version. Use isinstance(dtype, CategoricalDtype) instead\n",
      "  if pdt.is_categorical_dtype(series):\n",
      "Summarize dataset: 100%|██████████| 54/54 [00:04<00:00, 13.16it/s, Completed]                                                                                 \n",
      "Generate report structure: 100%|██████████| 1/1 [00:01<00:00,  1.81s/it]\n",
      "Render HTML: 100%|██████████| 1/1 [00:00<00:00,  1.60it/s]\n",
      "Export report to file: 100%|██████████| 1/1 [00:00<00:00, 343.26it/s]\n"
     ]
    }
   ],
   "source": [
    "# Create report\n",
    "profile = ProfileReport(df, title=\"JSSP Difficulty Prediction Instances\")\n",
    "profile.to_file(\n",
    "    get_project_path()\n",
    "    / \"reports\"\n",
    "    / \"jssp_difficulty_prediction_instances.html\"\n",
    ")"
   ]
  },
  {
   "cell_type": "code",
   "execution_count": null,
   "metadata": {},
   "outputs": [],
   "source": []
  }
 ],
 "metadata": {
  "kernelspec": {
   "display_name": "gnn-scheduler-rnVoZpeL-py3.11",
   "language": "python",
   "name": "python3"
  },
  "language_info": {
   "codemirror_mode": {
    "name": "ipython",
    "version": 3
   },
   "file_extension": ".py",
   "mimetype": "text/x-python",
   "name": "python",
   "nbconvert_exporter": "python",
   "pygments_lexer": "ipython3",
   "version": "3.11.6"
  }
 },
 "nbformat": 4,
 "nbformat_minor": 2
}
