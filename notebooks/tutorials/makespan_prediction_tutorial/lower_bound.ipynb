{
 "cells": [
  {
   "cell_type": "code",
   "execution_count": 1,
   "metadata": {},
   "outputs": [
    {
     "data": {
      "text/plain": [
       "130"
      ]
     },
     "execution_count": 1,
     "metadata": {},
     "output_type": "execute_result"
    }
   ],
   "source": [
    "from gnn_scheduler.jssp import load_all_from_benchmark, load_metadata\n",
    "import pandas as pd\n",
    "\n",
    "instances = load_all_from_benchmark(if_has_optimum=True)\n",
    "len(instances)"
   ]
  },
  {
   "cell_type": "code",
   "execution_count": 4,
   "metadata": {},
   "outputs": [],
   "source": [
    "def get_max_jobtime(instance):\n",
    "    max_job_time = 0\n",
    "    for job in instance.jobs:\n",
    "        job_time = sum(operation.duration for operation in job)\n",
    "        max_job_time = max(max_job_time, job_time)\n",
    "    return max_job_time"
   ]
  },
  {
   "cell_type": "code",
   "execution_count": 7,
   "metadata": {},
   "outputs": [
    {
     "data": {
      "text/html": [
       "<div>\n",
       "<style scoped>\n",
       "    .dataframe tbody tr th:only-of-type {\n",
       "        vertical-align: middle;\n",
       "    }\n",
       "\n",
       "    .dataframe tbody tr th {\n",
       "        vertical-align: top;\n",
       "    }\n",
       "\n",
       "    .dataframe thead th {\n",
       "        text-align: right;\n",
       "    }\n",
       "</style>\n",
       "<table border=\"1\" class=\"dataframe\">\n",
       "  <thead>\n",
       "    <tr style=\"text-align: right;\">\n",
       "      <th></th>\n",
       "      <th>instance_name</th>\n",
       "      <th>n_jobs</th>\n",
       "      <th>n_machines</th>\n",
       "      <th>total_time</th>\n",
       "      <th>optimum</th>\n",
       "      <th>max_job_time</th>\n",
       "    </tr>\n",
       "  </thead>\n",
       "  <tbody>\n",
       "    <tr>\n",
       "      <th>0</th>\n",
       "      <td>abz5</td>\n",
       "      <td>10</td>\n",
       "      <td>10</td>\n",
       "      <td>7773</td>\n",
       "      <td>1234</td>\n",
       "      <td>859</td>\n",
       "    </tr>\n",
       "    <tr>\n",
       "      <th>1</th>\n",
       "      <td>abz6</td>\n",
       "      <td>10</td>\n",
       "      <td>10</td>\n",
       "      <td>5946</td>\n",
       "      <td>943</td>\n",
       "      <td>742</td>\n",
       "    </tr>\n",
       "    <tr>\n",
       "      <th>2</th>\n",
       "      <td>abz7</td>\n",
       "      <td>20</td>\n",
       "      <td>15</td>\n",
       "      <td>7366</td>\n",
       "      <td>656</td>\n",
       "      <td>410</td>\n",
       "    </tr>\n",
       "    <tr>\n",
       "      <th>3</th>\n",
       "      <td>abz9</td>\n",
       "      <td>20</td>\n",
       "      <td>15</td>\n",
       "      <td>7442</td>\n",
       "      <td>678</td>\n",
       "      <td>467</td>\n",
       "    </tr>\n",
       "    <tr>\n",
       "      <th>4</th>\n",
       "      <td>ft06</td>\n",
       "      <td>6</td>\n",
       "      <td>6</td>\n",
       "      <td>197</td>\n",
       "      <td>55</td>\n",
       "      <td>47</td>\n",
       "    </tr>\n",
       "  </tbody>\n",
       "</table>\n",
       "</div>"
      ],
      "text/plain": [
       "  instance_name  n_jobs  n_machines  total_time  optimum  max_job_time\n",
       "0          abz5      10          10        7773     1234           859\n",
       "1          abz6      10          10        5946      943           742\n",
       "2          abz7      20          15        7366      656           410\n",
       "3          abz9      20          15        7442      678           467\n",
       "4          ft06       6           6         197       55            47"
      ]
     },
     "execution_count": 7,
     "metadata": {},
     "output_type": "execute_result"
    }
   ],
   "source": [
    "# create a dataframe with columns: instance_name, n_jobs, n_machines, total_time, optimum\n",
    "names = []\n",
    "n_jobs = []\n",
    "n_machines = []\n",
    "total_time = []\n",
    "optimum = []\n",
    "max_job_time = []\n",
    "for instance in instances:\n",
    "    names.append(instance.name)\n",
    "    n_jobs.append(instance.n_jobs)\n",
    "    n_machines.append(instance.n_machines)\n",
    "    total_time.append(instance.total_duration)\n",
    "    optimum.append(instance.optimum)\n",
    "    max_job_time.append(get_max_jobtime(instance))\n",
    "df = pd.DataFrame({\n",
    "    'instance_name': names,\n",
    "    'n_jobs': n_jobs,\n",
    "    'n_machines': n_machines,\n",
    "    'total_time': total_time,\n",
    "    'optimum': optimum,\n",
    "    'max_job_time': max_job_time\n",
    "})\n",
    "\n",
    "df.head()"
   ]
  },
  {
   "cell_type": "code",
   "execution_count": 10,
   "metadata": {},
   "outputs": [
    {
     "data": {
      "text/html": [
       "<div>\n",
       "<style scoped>\n",
       "    .dataframe tbody tr th:only-of-type {\n",
       "        vertical-align: middle;\n",
       "    }\n",
       "\n",
       "    .dataframe tbody tr th {\n",
       "        vertical-align: top;\n",
       "    }\n",
       "\n",
       "    .dataframe thead th {\n",
       "        text-align: right;\n",
       "    }\n",
       "</style>\n",
       "<table border=\"1\" class=\"dataframe\">\n",
       "  <thead>\n",
       "    <tr style=\"text-align: right;\">\n",
       "      <th></th>\n",
       "      <th>instance_name</th>\n",
       "      <th>n_jobs</th>\n",
       "      <th>n_machines</th>\n",
       "      <th>total_time</th>\n",
       "      <th>optimum</th>\n",
       "      <th>max_job_time</th>\n",
       "      <th>total_time_div_n_machines</th>\n",
       "    </tr>\n",
       "  </thead>\n",
       "  <tbody>\n",
       "    <tr>\n",
       "      <th>0</th>\n",
       "      <td>abz5</td>\n",
       "      <td>10</td>\n",
       "      <td>10</td>\n",
       "      <td>7773</td>\n",
       "      <td>1234</td>\n",
       "      <td>859</td>\n",
       "      <td>777.300000</td>\n",
       "    </tr>\n",
       "    <tr>\n",
       "      <th>1</th>\n",
       "      <td>abz6</td>\n",
       "      <td>10</td>\n",
       "      <td>10</td>\n",
       "      <td>5946</td>\n",
       "      <td>943</td>\n",
       "      <td>742</td>\n",
       "      <td>594.600000</td>\n",
       "    </tr>\n",
       "    <tr>\n",
       "      <th>2</th>\n",
       "      <td>abz7</td>\n",
       "      <td>20</td>\n",
       "      <td>15</td>\n",
       "      <td>7366</td>\n",
       "      <td>656</td>\n",
       "      <td>410</td>\n",
       "      <td>491.066667</td>\n",
       "    </tr>\n",
       "    <tr>\n",
       "      <th>3</th>\n",
       "      <td>abz9</td>\n",
       "      <td>20</td>\n",
       "      <td>15</td>\n",
       "      <td>7442</td>\n",
       "      <td>678</td>\n",
       "      <td>467</td>\n",
       "      <td>496.133333</td>\n",
       "    </tr>\n",
       "    <tr>\n",
       "      <th>4</th>\n",
       "      <td>ft06</td>\n",
       "      <td>6</td>\n",
       "      <td>6</td>\n",
       "      <td>197</td>\n",
       "      <td>55</td>\n",
       "      <td>47</td>\n",
       "      <td>32.833333</td>\n",
       "    </tr>\n",
       "    <tr>\n",
       "      <th>5</th>\n",
       "      <td>ft10</td>\n",
       "      <td>10</td>\n",
       "      <td>10</td>\n",
       "      <td>5109</td>\n",
       "      <td>930</td>\n",
       "      <td>655</td>\n",
       "      <td>510.900000</td>\n",
       "    </tr>\n",
       "    <tr>\n",
       "      <th>6</th>\n",
       "      <td>ft20</td>\n",
       "      <td>20</td>\n",
       "      <td>5</td>\n",
       "      <td>5109</td>\n",
       "      <td>1165</td>\n",
       "      <td>387</td>\n",
       "      <td>1021.800000</td>\n",
       "    </tr>\n",
       "    <tr>\n",
       "      <th>7</th>\n",
       "      <td>la01</td>\n",
       "      <td>10</td>\n",
       "      <td>5</td>\n",
       "      <td>2849</td>\n",
       "      <td>666</td>\n",
       "      <td>413</td>\n",
       "      <td>569.800000</td>\n",
       "    </tr>\n",
       "    <tr>\n",
       "      <th>8</th>\n",
       "      <td>la02</td>\n",
       "      <td>10</td>\n",
       "      <td>5</td>\n",
       "      <td>2643</td>\n",
       "      <td>655</td>\n",
       "      <td>394</td>\n",
       "      <td>528.600000</td>\n",
       "    </tr>\n",
       "    <tr>\n",
       "      <th>9</th>\n",
       "      <td>la03</td>\n",
       "      <td>10</td>\n",
       "      <td>5</td>\n",
       "      <td>2383</td>\n",
       "      <td>597</td>\n",
       "      <td>349</td>\n",
       "      <td>476.600000</td>\n",
       "    </tr>\n",
       "  </tbody>\n",
       "</table>\n",
       "</div>"
      ],
      "text/plain": [
       "  instance_name  n_jobs  n_machines  total_time  optimum  max_job_time  \\\n",
       "0          abz5      10          10        7773     1234           859   \n",
       "1          abz6      10          10        5946      943           742   \n",
       "2          abz7      20          15        7366      656           410   \n",
       "3          abz9      20          15        7442      678           467   \n",
       "4          ft06       6           6         197       55            47   \n",
       "5          ft10      10          10        5109      930           655   \n",
       "6          ft20      20           5        5109     1165           387   \n",
       "7          la01      10           5        2849      666           413   \n",
       "8          la02      10           5        2643      655           394   \n",
       "9          la03      10           5        2383      597           349   \n",
       "\n",
       "   total_time_div_n_machines  \n",
       "0                 777.300000  \n",
       "1                 594.600000  \n",
       "2                 491.066667  \n",
       "3                 496.133333  \n",
       "4                  32.833333  \n",
       "5                 510.900000  \n",
       "6                1021.800000  \n",
       "7                 569.800000  \n",
       "8                 528.600000  \n",
       "9                 476.600000  "
      ]
     },
     "execution_count": 10,
     "metadata": {},
     "output_type": "execute_result"
    }
   ],
   "source": [
    "df[\"total_time_div_n_machines\"] = df[\"total_time\"] / df[\"n_machines\"]\n",
    "df.head(10)"
   ]
  },
  {
   "cell_type": "code",
   "execution_count": 12,
   "metadata": {},
   "outputs": [
    {
     "data": {
      "text/plain": [
       "0"
      ]
     },
     "execution_count": 12,
     "metadata": {},
     "output_type": "execute_result"
    }
   ],
   "source": [
    "sum(df[\"optimum\"] < df[\"total_time_div_n_machines\"])"
   ]
  },
  {
   "cell_type": "code",
   "execution_count": 13,
   "metadata": {},
   "outputs": [
    {
     "data": {
      "text/plain": [
       "0"
      ]
     },
     "execution_count": 13,
     "metadata": {},
     "output_type": "execute_result"
    }
   ],
   "source": [
    "sum(df[\"optimum\"] < df[\"max_job_time\"])"
   ]
  },
  {
   "cell_type": "code",
   "execution_count": 14,
   "metadata": {},
   "outputs": [
    {
     "data": {
      "text/plain": [
       "91"
      ]
     },
     "execution_count": 14,
     "metadata": {},
     "output_type": "execute_result"
    }
   ],
   "source": [
    "sum(df[\"max_job_time\"] < df[\"total_time_div_n_machines\"])"
   ]
  },
  {
   "cell_type": "code",
   "execution_count": 19,
   "metadata": {},
   "outputs": [
    {
     "data": {
      "text/plain": [
       "<Axes: ylabel='Frequency'>"
      ]
     },
     "execution_count": 19,
     "metadata": {},
     "output_type": "execute_result"
    },
    {
     "data": {
      "image/png": "[encoded data removed]",
      "text/plain": [
       "<Figure size 640x480 with 1 Axes>"
      ]
     },
     "metadata": {},
     "output_type": "display_data"
    }
   ],
   "source": [
    "df.max_job_time.plot(kind=\"hist\", bins=100)"
   ]
  },
  {
   "cell_type": "code",
   "execution_count": 17,
   "metadata": {},
   "outputs": [
    {
     "data": {
      "text/plain": [
       "<Axes: ylabel='Frequency'>"
      ]
     },
     "execution_count": 17,
     "metadata": {},
     "output_type": "execute_result"
    },
    {
     "data": {
      "image/png": "[encoded data removed]",
      "text/plain": [
       "<Figure size 640x480 with 1 Axes>"
      ]
     },
     "metadata": {},
     "output_type": "display_data"
    }
   ],
   "source": [
    "df.total_time_div_n_machines.plot(kind=\"hist\", bins=100)"
   ]
  },
  {
   "cell_type": "code",
   "execution_count": 21,
   "metadata": {},
   "outputs": [
    {
     "data": {
      "text/plain": [
       "<Axes: ylabel='Frequency'>"
      ]
     },
     "execution_count": 21,
     "metadata": {},
     "output_type": "execute_result"
    },
    {
     "data": {
      "image/png": "[encoded data removed]",
      "text/plain": [
       "<Figure size 640x480 with 1 Axes>"
      ]
     },
     "metadata": {},
     "output_type": "display_data"
    }
   ],
   "source": [
    "df[\"optimum_div_max_job_time\"] = df[\"optimum\"] / df[\"max_job_time\"]\n",
    "df[\"optimum_div_total_time_div_machines\"] = df[\"optimum\"] / df[\"total_time_div_n_machines\"]\n",
    "df.optimum_div_max_job_time.plot(kind=\"hist\", bins=100, legend=True)\n",
    "df.optimum_div_total_time_div_machines.plot(kind=\"hist\", bins=100, legend=True)"
   ]
  },
  {
   "cell_type": "code",
   "execution_count": 22,
   "metadata": {},
   "outputs": [
    {
     "data": {
      "text/plain": [
       "<Axes: ylabel='Frequency'>"
      ]
     },
     "execution_count": 22,
     "metadata": {},
     "output_type": "execute_result"
    },
    {
     "data": {
      "image/png": "[encoded data removed]",
      "text/plain": [
       "<Figure size 640x480 with 1 Axes>"
      ]
     },
     "metadata": {},
     "output_type": "display_data"
    }
   ],
   "source": [
    "df[['optimum_div_max_job_time', 'optimum_div_total_time_div_machines']].plot(kind=\"hist\", bins=100, alpha=0.5)"
   ]
  },
  {
   "cell_type": "code",
   "execution_count": 23,
   "metadata": {},
   "outputs": [
    {
     "data": {
      "text/html": [
       "<div>\n",
       "<style scoped>\n",
       "    .dataframe tbody tr th:only-of-type {\n",
       "        vertical-align: middle;\n",
       "    }\n",
       "\n",
       "    .dataframe tbody tr th {\n",
       "        vertical-align: top;\n",
       "    }\n",
       "\n",
       "    .dataframe thead th {\n",
       "        text-align: right;\n",
       "    }\n",
       "</style>\n",
       "<table border=\"1\" class=\"dataframe\">\n",
       "  <thead>\n",
       "    <tr style=\"text-align: right;\">\n",
       "      <th></th>\n",
       "      <th>optimum_div_max_job_time</th>\n",
       "      <th>optimum_div_total_time_div_machines</th>\n",
       "    </tr>\n",
       "  </thead>\n",
       "  <tbody>\n",
       "    <tr>\n",
       "      <th>count</th>\n",
       "      <td>130.000000</td>\n",
       "      <td>130.000000</td>\n",
       "    </tr>\n",
       "    <tr>\n",
       "      <th>mean</th>\n",
       "      <td>2.185670</td>\n",
       "      <td>1.333646</td>\n",
       "    </tr>\n",
       "    <tr>\n",
       "      <th>std</th>\n",
       "      <td>0.975507</td>\n",
       "      <td>0.245146</td>\n",
       "    </tr>\n",
       "    <tr>\n",
       "      <th>min</th>\n",
       "      <td>1.170213</td>\n",
       "      <td>1.064243</td>\n",
       "    </tr>\n",
       "    <tr>\n",
       "      <th>25%</th>\n",
       "      <td>1.421966</td>\n",
       "      <td>1.126151</td>\n",
       "    </tr>\n",
       "    <tr>\n",
       "      <th>50%</th>\n",
       "      <td>1.791055</td>\n",
       "      <td>1.214644</td>\n",
       "    </tr>\n",
       "    <tr>\n",
       "      <th>75%</th>\n",
       "      <td>2.614704</td>\n",
       "      <td>1.587403</td>\n",
       "    </tr>\n",
       "    <tr>\n",
       "      <th>max</th>\n",
       "      <td>4.435459</td>\n",
       "      <td>1.971491</td>\n",
       "    </tr>\n",
       "  </tbody>\n",
       "</table>\n",
       "</div>"
      ],
      "text/plain": [
       "       optimum_div_max_job_time  optimum_div_total_time_div_machines\n",
       "count                130.000000                           130.000000\n",
       "mean                   2.185670                             1.333646\n",
       "std                    0.975507                             0.245146\n",
       "min                    1.170213                             1.064243\n",
       "25%                    1.421966                             1.126151\n",
       "50%                    1.791055                             1.214644\n",
       "75%                    2.614704                             1.587403\n",
       "max                    4.435459                             1.971491"
      ]
     },
     "execution_count": 23,
     "metadata": {},
     "output_type": "execute_result"
    }
   ],
   "source": [
    "df[['optimum_div_max_job_time', 'optimum_div_total_time_div_machines']].describe()"
   ]
  },
  {
   "cell_type": "code",
   "execution_count": null,
   "metadata": {},
   "outputs": [],
   "source": []
  }
 ],
 "metadata": {
  "kernelspec": {
   "display_name": "gnn-scheduler-rnVoZpeL-py3.11",
   "language": "python",
   "name": "python3"
  },
  "language_info": {
   "codemirror_mode": {
    "name": "ipython",
    "version": 3
   },
   "file_extension": ".py",
   "mimetype": "text/x-python",
   "name": "python",
   "nbconvert_exporter": "python",
   "pygments_lexer": "ipython3",
   "version": "3.11.6"
  }
 },
 "nbformat": 4,
 "nbformat_minor": 2
}
