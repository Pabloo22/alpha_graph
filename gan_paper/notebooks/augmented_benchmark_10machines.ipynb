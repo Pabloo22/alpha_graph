{
 "cells": [
  {
   "cell_type": "code",
   "execution_count": 8,
   "metadata": {},
   "outputs": [],
   "source": [
    "from ydata_profiling import ProfileReport\n",
    "\n",
    "from gnn_scheduler import get_project_path\n",
    "from gnn_scheduler.jssp import (\n",
    "    load_pickle_instances,\n",
    "    get_stat_dataframe,\n",
    ")"
   ]
  },
  {
   "cell_type": "code",
   "execution_count": 9,
   "metadata": {},
   "outputs": [
    {
     "name": "stderr",
     "output_type": "stream",
     "text": [
      "Loading instances:   0%|          | 0/21300 [00:00<?, ?it/s]"
     ]
    },
    {
     "name": "stderr",
     "output_type": "stream",
     "text": [
      "Loading instances: 100%|██████████| 21300/21300 [00:03<00:00, 6570.65it/s]\n"
     ]
    }
   ],
   "source": [
    "# Load instances from \"diff_prediction_instances folder\"\n",
    "instances = load_pickle_instances(folder_name=\"augmented_benchmark_10machines\")"
   ]
  },
  {
   "cell_type": "code",
   "execution_count": 10,
   "metadata": {},
   "outputs": [
    {
     "data": {
      "text/html": [
       "<div>\n",
       "<style scoped>\n",
       "    .dataframe tbody tr th:only-of-type {\n",
       "        vertical-align: middle;\n",
       "    }\n",
       "\n",
       "    .dataframe tbody tr th {\n",
       "        vertical-align: top;\n",
       "    }\n",
       "\n",
       "    .dataframe thead th {\n",
       "        text-align: right;\n",
       "    }\n",
       "</style>\n",
       "<table border=\"1\" class=\"dataframe\">\n",
       "  <thead>\n",
       "    <tr style=\"text-align: right;\">\n",
       "      <th></th>\n",
       "      <th>name</th>\n",
       "      <th>n_jobs</th>\n",
       "      <th>n_machines</th>\n",
       "      <th>max_machine_load_and_job_duration</th>\n",
       "      <th>upper_bound</th>\n",
       "      <th>is_optimal</th>\n",
       "      <th>no_solution</th>\n",
       "      <th>difficulty_score</th>\n",
       "    </tr>\n",
       "  </thead>\n",
       "  <tbody>\n",
       "    <tr>\n",
       "      <th>0</th>\n",
       "      <td>ta79_machines=10_id=686_jobs=10-20_id=19671_no...</td>\n",
       "      <td>16</td>\n",
       "      <td>10</td>\n",
       "      <td>1016</td>\n",
       "      <td>1182</td>\n",
       "      <td>False</td>\n",
       "      <td>False</td>\n",
       "      <td>0.163386</td>\n",
       "    </tr>\n",
       "    <tr>\n",
       "      <th>1</th>\n",
       "      <td>ta41_machines=10_id=364_jobs=10-20_id=4498_noi...</td>\n",
       "      <td>18</td>\n",
       "      <td>10</td>\n",
       "      <td>1066</td>\n",
       "      <td>1375</td>\n",
       "      <td>False</td>\n",
       "      <td>False</td>\n",
       "      <td>0.289869</td>\n",
       "    </tr>\n",
       "    <tr>\n",
       "      <th>2</th>\n",
       "      <td>ta80_machines=10_id=703_jobs=10-20_id=21131_no...</td>\n",
       "      <td>20</td>\n",
       "      <td>10</td>\n",
       "      <td>1056</td>\n",
       "      <td>1200</td>\n",
       "      <td>False</td>\n",
       "      <td>False</td>\n",
       "      <td>0.136364</td>\n",
       "    </tr>\n",
       "    <tr>\n",
       "      <th>3</th>\n",
       "      <td>ta67_machines=10_id=571_jobs=10-20_id=10944_no...</td>\n",
       "      <td>18</td>\n",
       "      <td>10</td>\n",
       "      <td>1090</td>\n",
       "      <td>1205</td>\n",
       "      <td>False</td>\n",
       "      <td>False</td>\n",
       "      <td>0.105505</td>\n",
       "    </tr>\n",
       "    <tr>\n",
       "      <th>4</th>\n",
       "      <td>ta71_machines=10_id=606_jobs=10-20_id=12406_no...</td>\n",
       "      <td>20</td>\n",
       "      <td>10</td>\n",
       "      <td>1147</td>\n",
       "      <td>1392</td>\n",
       "      <td>False</td>\n",
       "      <td>False</td>\n",
       "      <td>0.213601</td>\n",
       "    </tr>\n",
       "  </tbody>\n",
       "</table>\n",
       "</div>"
      ],
      "text/plain": [
       "                                                name  n_jobs  n_machines  \\\n",
       "0  ta79_machines=10_id=686_jobs=10-20_id=19671_no...      16          10   \n",
       "1  ta41_machines=10_id=364_jobs=10-20_id=4498_noi...      18          10   \n",
       "2  ta80_machines=10_id=703_jobs=10-20_id=21131_no...      20          10   \n",
       "3  ta67_machines=10_id=571_jobs=10-20_id=10944_no...      18          10   \n",
       "4  ta71_machines=10_id=606_jobs=10-20_id=12406_no...      20          10   \n",
       "\n",
       "   max_machine_load_and_job_duration  upper_bound  is_optimal  no_solution  \\\n",
       "0                               1016         1182       False        False   \n",
       "1                               1066         1375       False        False   \n",
       "2                               1056         1200       False        False   \n",
       "3                               1090         1205       False        False   \n",
       "4                               1147         1392       False        False   \n",
       "\n",
       "   difficulty_score  \n",
       "0          0.163386  \n",
       "1          0.289869  \n",
       "2          0.136364  \n",
       "3          0.105505  \n",
       "4          0.213601  "
      ]
     },
     "execution_count": 10,
     "metadata": {},
     "output_type": "execute_result"
    }
   ],
   "source": [
    "df = get_stat_dataframe(instances)\n",
    "df.head()"
   ]
  },
  {
   "cell_type": "code",
   "execution_count": 11,
   "metadata": {},
   "outputs": [
    {
     "data": {
      "text/plain": [
       "n_machines\n",
       "10    21300\n",
       "Name: count, dtype: int64"
      ]
     },
     "execution_count": 11,
     "metadata": {},
     "output_type": "execute_result"
    }
   ],
   "source": [
    "df.n_machines.value_counts()"
   ]
  },
  {
   "cell_type": "code",
   "execution_count": 12,
   "metadata": {},
   "outputs": [
    {
     "data": {
      "text/plain": [
       "n_jobs\n",
       "15    2092\n",
       "10    1979\n",
       "19    1973\n",
       "11    1969\n",
       "14    1929\n",
       "13    1929\n",
       "12    1917\n",
       "20    1886\n",
       "16    1884\n",
       "18    1881\n",
       "17    1861\n",
       "Name: count, dtype: int64"
      ]
     },
     "execution_count": 12,
     "metadata": {},
     "output_type": "execute_result"
    }
   ],
   "source": [
    "df.n_jobs.value_counts()"
   ]
  },
  {
   "cell_type": "code",
   "execution_count": 15,
   "metadata": {},
   "outputs": [
    {
     "name": "stderr",
     "output_type": "stream",
     "text": [
      "Summarize dataset:   0%|          | 0/5 [00:00<?, ?it/s]"
     ]
    },
    {
     "name": "stderr",
     "output_type": "stream",
     "text": [
      "/home/pablo/.cache/pypoetry/virtualenvs/gnn-scheduler-rnVoZpeL-py3.11/lib/python3.11/site-packages/ydata_profiling/model/typeset.py:208: FutureWarning: is_categorical_dtype is deprecated and will be removed in a future version. Use isinstance(dtype, CategoricalDtype) instead\n",
      "  is_valid_dtype = pdt.is_categorical_dtype(series) and not pdt.is_bool_dtype(\n",
      "/home/pablo/.cache/pypoetry/virtualenvs/gnn-scheduler-rnVoZpeL-py3.11/lib/python3.11/site-packages/ydata_profiling/model/typeset.py:125: FutureWarning: is_categorical_dtype is deprecated and will be removed in a future version. Use isinstance(dtype, CategoricalDtype) instead\n",
      "  not pdt.is_categorical_dtype(series)\n",
      "/home/pablo/.cache/pypoetry/virtualenvs/gnn-scheduler-rnVoZpeL-py3.11/lib/python3.11/site-packages/ydata_profiling/model/typeset.py:208: FutureWarning: is_categorical_dtype is deprecated and will be removed in a future version. Use isinstance(dtype, CategoricalDtype) instead\n",
      "  is_valid_dtype = pdt.is_categorical_dtype(series) and not pdt.is_bool_dtype(\n",
      "/home/pablo/.cache/pypoetry/virtualenvs/gnn-scheduler-rnVoZpeL-py3.11/lib/python3.11/site-packages/ydata_profiling/model/typeset.py:125: FutureWarning: is_categorical_dtype is deprecated and will be removed in a future version. Use isinstance(dtype, CategoricalDtype) instead\n",
      "  not pdt.is_categorical_dtype(series)\n",
      "/home/pablo/.cache/pypoetry/virtualenvs/gnn-scheduler-rnVoZpeL-py3.11/lib/python3.11/site-packages/ydata_profiling/model/typeset_relations.py:34: FutureWarning: is_categorical_dtype is deprecated and will be removed in a future version. Use isinstance(dtype, CategoricalDtype) instead\n",
      "  if pdt.is_categorical_dtype(series):\n",
      "/home/pablo/.cache/pypoetry/virtualenvs/gnn-scheduler-rnVoZpeL-py3.11/lib/python3.11/site-packages/ydata_profiling/model/typeset.py:208: FutureWarning: is_categorical_dtype is deprecated and will be removed in a future version. Use isinstance(dtype, CategoricalDtype) instead\n",
      "  is_valid_dtype = pdt.is_categorical_dtype(series) and not pdt.is_bool_dtype(\n",
      "/home/pablo/.cache/pypoetry/virtualenvs/gnn-scheduler-rnVoZpeL-py3.11/lib/python3.11/site-packages/ydata_profiling/model/typeset.py:125: FutureWarning: is_categorical_dtype is deprecated and will be removed in a future version. Use isinstance(dtype, CategoricalDtype) instead\n",
      "  not pdt.is_categorical_dtype(series)\n",
      "Summarize dataset:   8%|▊         | 1/13 [00:00<00:00, 16.59it/s, Describe variable:no_solution]/home/pablo/.cache/pypoetry/virtualenvs/gnn-scheduler-rnVoZpeL-py3.11/lib/python3.11/site-packages/ydata_profiling/model/typeset.py:208: FutureWarning: is_categorical_dtype is deprecated and will be removed in a future version. Use isinstance(dtype, CategoricalDtype) instead\n",
      "  is_valid_dtype = pdt.is_categorical_dtype(series) and not pdt.is_bool_dtype(\n",
      "/home/pablo/.cache/pypoetry/virtualenvs/gnn-scheduler-rnVoZpeL-py3.11/lib/python3.11/site-packages/ydata_profiling/model/typeset.py:125: FutureWarning: is_categorical_dtype is deprecated and will be removed in a future version. Use isinstance(dtype, CategoricalDtype) instead\n",
      "  not pdt.is_categorical_dtype(series)\n",
      "Summarize dataset:  15%|█▌        | 2/13 [00:00<00:00, 19.53it/s, Describe variable:n_machines] /home/pablo/.cache/pypoetry/virtualenvs/gnn-scheduler-rnVoZpeL-py3.11/lib/python3.11/site-packages/ydata_profiling/model/typeset.py:208: FutureWarning: is_categorical_dtype is deprecated and will be removed in a future version. Use isinstance(dtype, CategoricalDtype) instead\n",
      "  is_valid_dtype = pdt.is_categorical_dtype(series) and not pdt.is_bool_dtype(\n",
      "/home/pablo/.cache/pypoetry/virtualenvs/gnn-scheduler-rnVoZpeL-py3.11/lib/python3.11/site-packages/ydata_profiling/model/typeset.py:125: FutureWarning: is_categorical_dtype is deprecated and will be removed in a future version. Use isinstance(dtype, CategoricalDtype) instead\n",
      "  not pdt.is_categorical_dtype(series)\n",
      "/home/pablo/.cache/pypoetry/virtualenvs/gnn-scheduler-rnVoZpeL-py3.11/lib/python3.11/site-packages/ydata_profiling/model/typeset.py:208: FutureWarning: is_categorical_dtype is deprecated and will be removed in a future version. Use isinstance(dtype, CategoricalDtype) instead\n",
      "  is_valid_dtype = pdt.is_categorical_dtype(series) and not pdt.is_bool_dtype(\n",
      "/home/pablo/.cache/pypoetry/virtualenvs/gnn-scheduler-rnVoZpeL-py3.11/lib/python3.11/site-packages/ydata_profiling/model/typeset.py:125: FutureWarning: is_categorical_dtype is deprecated and will be removed in a future version. Use isinstance(dtype, CategoricalDtype) instead\n",
      "  not pdt.is_categorical_dtype(series)\n",
      "/home/pablo/.cache/pypoetry/virtualenvs/gnn-scheduler-rnVoZpeL-py3.11/lib/python3.11/site-packages/ydata_profiling/model/typeset_relations.py:34: FutureWarning: is_categorical_dtype is deprecated and will be removed in a future version. Use isinstance(dtype, CategoricalDtype) instead\n",
      "  if pdt.is_categorical_dtype(series):\n",
      "Summarize dataset: 100%|██████████| 33/33 [00:02<00:00, 12.05it/s, Completed]                                                                   \n",
      "Generate report structure: 100%|██████████| 1/1 [00:02<00:00,  2.17s/it]\n",
      "Render HTML: 100%|██████████| 1/1 [00:00<00:00,  2.56it/s]\n",
      "Export report to file: 100%|██████████| 1/1 [00:00<00:00, 297.36it/s]\n"
     ]
    }
   ],
   "source": [
    "# Create the report\n",
    "profile = ProfileReport(df, title=\"Augmented Benchmark (10 machines)\")\n",
    "profile.to_file(\n",
    "    get_project_path()\n",
    "    / \"reports\"\n",
    "    / \"augmented_benchmark_10machines.html\"\n",
    ")\n"
   ]
  },
  {
   "cell_type": "code",
   "execution_count": null,
   "metadata": {},
   "outputs": [],
   "source": []
  }
 ],
 "metadata": {
  "kernelspec": {
   "display_name": "gnn-scheduler-rnVoZpeL-py3.11",
   "language": "python",
   "name": "python3"
  },
  "language_info": {
   "codemirror_mode": {
    "name": "ipython",
    "version": 3
   },
   "file_extension": ".py",
   "mimetype": "text/x-python",
   "name": "python",
   "nbconvert_exporter": "python",
   "pygments_lexer": "ipython3",
   "version": "3.11.6"
  }
 },
 "nbformat": 4,
 "nbformat_minor": 2
}
