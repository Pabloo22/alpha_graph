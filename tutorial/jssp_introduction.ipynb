{
 "cells": [
  {
   "cell_type": "markdown",
   "metadata": {},
   "source": [
    "# Introduction to the Job Shop Scheduling Problem\n",
    "\n",
    "In this notebook we will introduce you to the Job-Shop Scheduling Problem (JSSP) and the framework we have developed."
   ]
  },
  {
   "cell_type": "markdown",
   "metadata": {},
   "source": [
    "### Problem Definition\n",
    "The Job Shop Scheduling Problem (JSSP) is a fundamental and highly studied problem in operations research and computer science [[1]](https://www.sciencedirect.com/science/article/pii/S0305054812000500#bib24), with its origins tracing back to the mid-20th century. Historically, the JSSP emerged from the need to optimize manufacturing and production processes, especially in the context of increasing industrialization and the growing complexity of manufacturing systems.\n",
    "\n",
    "The problem itself involves scheduling a set of jobs $J$, each consisting of a sequence of operations ${O_1, O_2, ..., O_n}$, on a set of machines $M$. Each job has a specific order in which its operations need to be processed, and each operation requires a specific machine for a certain duration. The complexity arises from constraints: no machine can process more than one operation at a time, and once a operation is started, it must run to completion without interruption."
   ]
  },
  {
   "cell_type": "markdown",
   "metadata": {},
   "source": [
    "In our module we model each JSSP as a class."
   ]
  },
  {
   "cell_type": "code",
   "execution_count": null,
   "metadata": {},
   "outputs": [],
   "source": [
    "from gnn_scheduler.jssp import JobShopInstance, Operation\n",
    "\n",
    "\n",
    "J1 = [Operation(machine=0, duration=2), Operation(machine=1, duration=1)]\n",
    "J2 = [Operation(machine=0, duration=1), Operation(machine=1, duration=2)]\n",
    "J3 = [Operation(machine=1, duration=1), Operation(machine=0, duration=1)]\n",
    "\n",
    "jssp = JobShopInstance(jobs=[J1, J2, J3]), name=\"Example JSSP\")"
   ]
  },
  {
   "cell_type": "markdown",
   "metadata": {},
   "source": [
    "### Graph Representation\n",
    "A popular way to represent the problem is using a disjunctive graph [[2]](https://www.sciencedirect.com/science/article/pii/S0377221799004865). In this representation, each node represents an operation."
   ]
  },
  {
   "cell_type": "code",
   "execution_count": null,
   "metadata": {},
   "outputs": [],
   "source": []
  },
  {
   "cell_type": "markdown",
   "metadata": {},
   "source": []
  }
 ],
 "metadata": {
  "language_info": {
   "name": "python"
  }
 },
 "nbformat": 4,
 "nbformat_minor": 2
}
