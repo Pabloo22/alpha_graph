{
 "cells": [
  {
   "cell_type": "code",
   "execution_count": 41,
   "metadata": {},
   "outputs": [
    {
     "data": {
      "text/plain": [
       "130"
      ]
     },
     "execution_count": 41,
     "metadata": {},
     "output_type": "execute_result"
    }
   ],
   "source": [
    "from gnn_scheduler.jssp import load_all_from_benchmark, load_metadata\n",
    "import pandas as pd\n",
    "\n",
    "instances = load_all_from_benchmark(if_has_optimum=True)\n",
    "len(instances)"
   ]
  },
  {
   "cell_type": "code",
   "execution_count": 42,
   "metadata": {},
   "outputs": [
    {
     "data": {
      "text/html": [
       "<div>\n",
       "<style scoped>\n",
       "    .dataframe tbody tr th:only-of-type {\n",
       "        vertical-align: middle;\n",
       "    }\n",
       "\n",
       "    .dataframe tbody tr th {\n",
       "        vertical-align: top;\n",
       "    }\n",
       "\n",
       "    .dataframe thead th {\n",
       "        text-align: right;\n",
       "    }\n",
       "</style>\n",
       "<table border=\"1\" class=\"dataframe\">\n",
       "  <thead>\n",
       "    <tr style=\"text-align: right;\">\n",
       "      <th></th>\n",
       "      <th>instance_name</th>\n",
       "      <th>n_jobs</th>\n",
       "      <th>n_machines</th>\n",
       "      <th>total_time</th>\n",
       "      <th>optimum</th>\n",
       "      <th>max_job_time</th>\n",
       "      <th>max_machine_load</th>\n",
       "      <th>mean_machine_load</th>\n",
       "    </tr>\n",
       "  </thead>\n",
       "  <tbody>\n",
       "    <tr>\n",
       "      <th>0</th>\n",
       "      <td>abz5</td>\n",
       "      <td>10</td>\n",
       "      <td>10</td>\n",
       "      <td>7773</td>\n",
       "      <td>1234</td>\n",
       "      <td>859</td>\n",
       "      <td>868</td>\n",
       "      <td>777.300000</td>\n",
       "    </tr>\n",
       "    <tr>\n",
       "      <th>1</th>\n",
       "      <td>abz6</td>\n",
       "      <td>10</td>\n",
       "      <td>10</td>\n",
       "      <td>5946</td>\n",
       "      <td>943</td>\n",
       "      <td>742</td>\n",
       "      <td>688</td>\n",
       "      <td>594.600000</td>\n",
       "    </tr>\n",
       "    <tr>\n",
       "      <th>2</th>\n",
       "      <td>abz7</td>\n",
       "      <td>20</td>\n",
       "      <td>15</td>\n",
       "      <td>7366</td>\n",
       "      <td>656</td>\n",
       "      <td>410</td>\n",
       "      <td>556</td>\n",
       "      <td>491.066667</td>\n",
       "    </tr>\n",
       "    <tr>\n",
       "      <th>3</th>\n",
       "      <td>abz9</td>\n",
       "      <td>20</td>\n",
       "      <td>15</td>\n",
       "      <td>7442</td>\n",
       "      <td>678</td>\n",
       "      <td>467</td>\n",
       "      <td>563</td>\n",
       "      <td>496.133333</td>\n",
       "    </tr>\n",
       "    <tr>\n",
       "      <th>4</th>\n",
       "      <td>ft06</td>\n",
       "      <td>6</td>\n",
       "      <td>6</td>\n",
       "      <td>197</td>\n",
       "      <td>55</td>\n",
       "      <td>47</td>\n",
       "      <td>43</td>\n",
       "      <td>32.833333</td>\n",
       "    </tr>\n",
       "  </tbody>\n",
       "</table>\n",
       "</div>"
      ],
      "text/plain": [
       "  instance_name  n_jobs  n_machines  total_time  optimum  max_job_time  \\\n",
       "0          abz5      10          10        7773     1234           859   \n",
       "1          abz6      10          10        5946      943           742   \n",
       "2          abz7      20          15        7366      656           410   \n",
       "3          abz9      20          15        7442      678           467   \n",
       "4          ft06       6           6         197       55            47   \n",
       "\n",
       "   max_machine_load  mean_machine_load  \n",
       "0               868         777.300000  \n",
       "1               688         594.600000  \n",
       "2               556         491.066667  \n",
       "3               563         496.133333  \n",
       "4                43          32.833333  "
      ]
     },
     "execution_count": 42,
     "metadata": {},
     "output_type": "execute_result"
    }
   ],
   "source": [
    "# create a dataframe with columns: instance_name, n_jobs, n_machines, total_time, optimum\n",
    "names = []\n",
    "n_jobs = []\n",
    "n_machines = []\n",
    "total_time = []\n",
    "optimum = []\n",
    "max_job_time = []\n",
    "max_machine_load = []\n",
    "mean_machine_load = []\n",
    "mean_machine_load2 = []\n",
    "\n",
    "for instance in instances:\n",
    "    names.append(instance.name)\n",
    "    n_jobs.append(instance.n_jobs)\n",
    "    n_machines.append(instance.n_machines)\n",
    "    total_time.append(instance.total_duration)\n",
    "    optimum.append(instance.upper_bound)\n",
    "    max_job_time.append(instance.max_job_duration)\n",
    "    max_machine_load.append(instance.max_machine_load)\n",
    "    mean_machine_load.append(instance.mean_machine_load)\n",
    "\n",
    "df = pd.DataFrame({\n",
    "    'instance_name': names,\n",
    "    'n_jobs': n_jobs,\n",
    "    'n_machines': n_machines,\n",
    "    'total_time': total_time,\n",
    "    'optimum': optimum,\n",
    "    'max_job_time': max_job_time,\n",
    "    'max_machine_load': max_machine_load,\n",
    "    'mean_machine_load': mean_machine_load,\n",
    "})\n",
    "\n",
    "df.head()"
   ]
  },
  {
   "cell_type": "code",
   "execution_count": 43,
   "metadata": {},
   "outputs": [],
   "source": [
    "df[\"optimum_div_max_job_time\"] = df[\"optimum\"] / df[\"max_job_time\"]\n",
    "df[\"optimum_div_max_machine_load\"] = df[\"optimum\"] / df[\"max_machine_load\"]\n",
    "df[\"optimum_div_mean_machine_load\"] = df[\"optimum\"] / df[\"mean_machine_load\"]"
   ]
  },
  {
   "cell_type": "code",
   "execution_count": 44,
   "metadata": {},
   "outputs": [
    {
     "data": {
      "text/html": [
       "<div>\n",
       "<style scoped>\n",
       "    .dataframe tbody tr th:only-of-type {\n",
       "        vertical-align: middle;\n",
       "    }\n",
       "\n",
       "    .dataframe tbody tr th {\n",
       "        vertical-align: top;\n",
       "    }\n",
       "\n",
       "    .dataframe thead th {\n",
       "        text-align: right;\n",
       "    }\n",
       "</style>\n",
       "<table border=\"1\" class=\"dataframe\">\n",
       "  <thead>\n",
       "    <tr style=\"text-align: right;\">\n",
       "      <th></th>\n",
       "      <th>optimum_div_max_job_time</th>\n",
       "      <th>optimum_div_max_machine_load</th>\n",
       "      <th>optimum_div_mean_machine_load</th>\n",
       "    </tr>\n",
       "  </thead>\n",
       "  <tbody>\n",
       "    <tr>\n",
       "      <th>count</th>\n",
       "      <td>130.000000</td>\n",
       "      <td>130.000000</td>\n",
       "      <td>130.000000</td>\n",
       "    </tr>\n",
       "    <tr>\n",
       "      <th>mean</th>\n",
       "      <td>2.185670</td>\n",
       "      <td>1.136349</td>\n",
       "      <td>1.333646</td>\n",
       "    </tr>\n",
       "    <tr>\n",
       "      <th>std</th>\n",
       "      <td>0.975507</td>\n",
       "      <td>0.167375</td>\n",
       "      <td>0.245146</td>\n",
       "    </tr>\n",
       "    <tr>\n",
       "      <th>min</th>\n",
       "      <td>1.170213</td>\n",
       "      <td>1.000000</td>\n",
       "      <td>1.064243</td>\n",
       "    </tr>\n",
       "    <tr>\n",
       "      <th>25%</th>\n",
       "      <td>1.421966</td>\n",
       "      <td>1.000000</td>\n",
       "      <td>1.126151</td>\n",
       "    </tr>\n",
       "    <tr>\n",
       "      <th>50%</th>\n",
       "      <td>1.791055</td>\n",
       "      <td>1.042597</td>\n",
       "      <td>1.214644</td>\n",
       "    </tr>\n",
       "    <tr>\n",
       "      <th>75%</th>\n",
       "      <td>2.614704</td>\n",
       "      <td>1.253350</td>\n",
       "      <td>1.587403</td>\n",
       "    </tr>\n",
       "    <tr>\n",
       "      <th>max</th>\n",
       "      <td>4.435459</td>\n",
       "      <td>1.646967</td>\n",
       "      <td>1.971491</td>\n",
       "    </tr>\n",
       "  </tbody>\n",
       "</table>\n",
       "</div>"
      ],
      "text/plain": [
       "       optimum_div_max_job_time  optimum_div_max_machine_load  \\\n",
       "count                130.000000                    130.000000   \n",
       "mean                   2.185670                      1.136349   \n",
       "std                    0.975507                      0.167375   \n",
       "min                    1.170213                      1.000000   \n",
       "25%                    1.421966                      1.000000   \n",
       "50%                    1.791055                      1.042597   \n",
       "75%                    2.614704                      1.253350   \n",
       "max                    4.435459                      1.646967   \n",
       "\n",
       "       optimum_div_mean_machine_load  \n",
       "count                     130.000000  \n",
       "mean                        1.333646  \n",
       "std                         0.245146  \n",
       "min                         1.064243  \n",
       "25%                         1.126151  \n",
       "50%                         1.214644  \n",
       "75%                         1.587403  \n",
       "max                         1.971491  "
      ]
     },
     "execution_count": 44,
     "metadata": {},
     "output_type": "execute_result"
    }
   ],
   "source": [
    "optimum_div_x = df[[\"optimum_div_max_job_time\", \"optimum_div_max_machine_load\", \"optimum_div_mean_machine_load\"]].copy()\n",
    "optimum_div_x.describe()"
   ]
  },
  {
   "cell_type": "code",
   "execution_count": 45,
   "metadata": {},
   "outputs": [
    {
     "data": {
      "text/plain": [
       "51"
      ]
     },
     "execution_count": 45,
     "metadata": {},
     "output_type": "execute_result"
    }
   ],
   "source": [
    "# Count how many ones are in optimum_div_max_machine_load\n",
    "(df[\"optimum_div_max_machine_load\"] == 1).sum()"
   ]
  },
  {
   "cell_type": "code",
   "execution_count": 46,
   "metadata": {},
   "outputs": [
    {
     "data": {
      "text/plain": [
       "<Axes: ylabel='Frequency'>"
      ]
     },
     "execution_count": 46,
     "metadata": {},
     "output_type": "execute_result"
    },
    {
     "data": {
      "image/png": "[encoded data removed]",
      "text/plain": [
       "<Figure size 640x480 with 1 Axes>"
      ]
     },
     "metadata": {},
     "output_type": "display_data"
    }
   ],
   "source": [
    "optimum_div_x.plot.hist(bins=100, alpha=0.5)"
   ]
  },
  {
   "cell_type": "code",
   "execution_count": 47,
   "metadata": {},
   "outputs": [],
   "source": [
    "# New lower bound: max(max_job_time, max_machine_load)\n",
    "df[\"max_job_machine_time\"] = df[[\"max_job_time\", \"max_machine_load\"]].max(axis=1)\n",
    "optimum_div_x.loc[:, \"optimum_div_max_job_machine_time\"] = df[\"optimum\"] / df[\"max_job_machine_time\"]"
   ]
  },
  {
   "cell_type": "code",
   "execution_count": 51,
   "metadata": {},
   "outputs": [
    {
     "data": {
      "text/plain": [
       "<Axes: ylabel='Frequency'>"
      ]
     },
     "execution_count": 51,
     "metadata": {},
     "output_type": "execute_result"
    },
    {
     "data": {
      "image/png": "[encoded data removed]",
      "text/plain": [
       "<Figure size 640x480 with 1 Axes>"
      ]
     },
     "metadata": {},
     "output_type": "display_data"
    }
   ],
   "source": [
    "optimum_div_x[['optimum_div_max_machine_load', 'optimum_div_mean_machine_load']].plot.hist(bins=100, alpha=0.5)"
   ]
  },
  {
   "cell_type": "code",
   "execution_count": null,
   "metadata": {},
   "outputs": [
    {
     "data": {
      "text/html": [
       "<div>\n",
       "<style scoped>\n",
       "    .dataframe tbody tr th:only-of-type {\n",
       "        vertical-align: middle;\n",
       "    }\n",
       "\n",
       "    .dataframe tbody tr th {\n",
       "        vertical-align: top;\n",
       "    }\n",
       "\n",
       "    .dataframe thead th {\n",
       "        text-align: right;\n",
       "    }\n",
       "</style>\n",
       "<table border=\"1\" class=\"dataframe\">\n",
       "  <thead>\n",
       "    <tr style=\"text-align: right;\">\n",
       "      <th></th>\n",
       "      <th>optimum_div_max_job_time</th>\n",
       "      <th>optimum_div_max_machine_load</th>\n",
       "      <th>optimum_div_mean_machine_load</th>\n",
       "      <th>optimum_div_max_job_machine_time</th>\n",
       "    </tr>\n",
       "  </thead>\n",
       "  <tbody>\n",
       "    <tr>\n",
       "      <th>count</th>\n",
       "      <td>130.000000</td>\n",
       "      <td>130.000000</td>\n",
       "      <td>130.000000</td>\n",
       "      <td>130.000000</td>\n",
       "    </tr>\n",
       "    <tr>\n",
       "      <th>mean</th>\n",
       "      <td>2.185670</td>\n",
       "      <td>1.136349</td>\n",
       "      <td>1.333646</td>\n",
       "      <td>1.125097</td>\n",
       "    </tr>\n",
       "    <tr>\n",
       "      <th>std</th>\n",
       "      <td>0.975507</td>\n",
       "      <td>0.167375</td>\n",
       "      <td>0.245146</td>\n",
       "      <td>0.149913</td>\n",
       "    </tr>\n",
       "    <tr>\n",
       "      <th>min</th>\n",
       "      <td>1.170213</td>\n",
       "      <td>1.000000</td>\n",
       "      <td>1.064243</td>\n",
       "      <td>1.000000</td>\n",
       "    </tr>\n",
       "    <tr>\n",
       "      <th>25%</th>\n",
       "      <td>1.421966</td>\n",
       "      <td>1.000000</td>\n",
       "      <td>1.126151</td>\n",
       "      <td>1.000000</td>\n",
       "    </tr>\n",
       "    <tr>\n",
       "      <th>50%</th>\n",
       "      <td>1.791055</td>\n",
       "      <td>1.042597</td>\n",
       "      <td>1.214644</td>\n",
       "      <td>1.042597</td>\n",
       "    </tr>\n",
       "    <tr>\n",
       "      <th>75%</th>\n",
       "      <td>2.614704</td>\n",
       "      <td>1.253350</td>\n",
       "      <td>1.587403</td>\n",
       "      <td>1.232397</td>\n",
       "    </tr>\n",
       "    <tr>\n",
       "      <th>max</th>\n",
       "      <td>4.435459</td>\n",
       "      <td>1.646967</td>\n",
       "      <td>1.971491</td>\n",
       "      <td>1.550926</td>\n",
       "    </tr>\n",
       "  </tbody>\n",
       "</table>\n",
       "</div>"
      ],
      "text/plain": [
       "       optimum_div_max_job_time  optimum_div_max_machine_load  \\\n",
       "count                130.000000                    130.000000   \n",
       "mean                   2.185670                      1.136349   \n",
       "std                    0.975507                      0.167375   \n",
       "min                    1.170213                      1.000000   \n",
       "25%                    1.421966                      1.000000   \n",
       "50%                    1.791055                      1.042597   \n",
       "75%                    2.614704                      1.253350   \n",
       "max                    4.435459                      1.646967   \n",
       "\n",
       "       optimum_div_mean_machine_load  optimum_div_max_job_machine_time  \n",
       "count                     130.000000                        130.000000  \n",
       "mean                        1.333646                          1.125097  \n",
       "std                         0.245146                          0.149913  \n",
       "min                         1.064243                          1.000000  \n",
       "25%                         1.126151                          1.000000  \n",
       "50%                         1.214644                          1.042597  \n",
       "75%                         1.587403                          1.232397  \n",
       "max                         1.971491                          1.550926  "
      ]
     },
     "execution_count": 40,
     "metadata": {},
     "output_type": "execute_result"
    }
   ],
   "source": [
    "optimum_div_x.describe()"
   ]
  },
  {
   "cell_type": "code",
   "execution_count": null,
   "metadata": {},
   "outputs": [],
   "source": []
  }
 ],
 "metadata": {
  "kernelspec": {
   "display_name": "gnn-scheduler-rnVoZpeL-py3.11",
   "language": "python",
   "name": "python3"
  },
  "language_info": {
   "codemirror_mode": {
    "name": "ipython",
    "version": 3
   },
   "file_extension": ".py",
   "mimetype": "text/x-python",
   "name": "python",
   "nbconvert_exporter": "python",
   "pygments_lexer": "ipython3",
   "version": "3.11.6"
  }
 },
 "nbformat": 4,
 "nbformat_minor": 2
}
